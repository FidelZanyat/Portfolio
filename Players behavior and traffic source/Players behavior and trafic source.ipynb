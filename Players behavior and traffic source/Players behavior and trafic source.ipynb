{
 "cells": [
  {
   "cell_type": "markdown",
   "metadata": {},
   "source": [
    "<div class = \"alert alert-info\" style=\"border-left: 7px solid blue\">\n",
    "<p><big><b> Readme </b></big></p> \n",
    "    \n",
    "В этом проекте мне необходимо проанализировать поведение игроков, истонички их привлечения и дать рекомендации по источникам.\n",
    "\n",
    "Исходные данные проекта не выкладываю, поскольку это чужие данные, выкладывать их нехорошо и запрещено правилами ЯП.\n",
    "</div>"
   ]
  },
  {
   "cell_type": "markdown",
   "metadata": {},
   "source": [
    "# Материалы\n",
    "- презентация Ссылка на презентацию https://drive.google.com/file/d/1pvy6kpwb1kHR8vKthwrwiT3b169zFRzJ/view?usp=sharing\n",
    "- ссылка на дашборд https://public.tableau.com/app/profile/roman1471/viz/-_16579658447160/Dashboard1?publish=yes\n",
    "- не делал нигде пометок, что мета/фейсбук/инста это экстремисты и негодяи. В реальном проекте еще бы расставил везде вагон дисклеймеров про их статус"
   ]
  },
  {
   "cell_type": "markdown",
   "metadata": {},
   "source": [
    "# Игры — Анализ рекламных источников\n",
    "\n",
    "Задача: Необходимо проанализировать поведение игроков в зависимости от источника перехода и проранжировать источники пользователей по расходам.\n",
    "\n",
    "Контекст: мы - часть команды мобильной игры \"Космические братья\". Стратегия с PvE и PvP механиками. Команда планирует монетизацию и для этого нашей части команды аналитиков поручено глянуть на расходы на привлечение и оценить эффективность истоничков привлечения и поведение привлеченных пользователей."
   ]
  },
  {
   "cell_type": "markdown",
   "metadata": {},
   "source": [
    "## Предобработка данных:"
   ]
  },
  {
   "cell_type": "markdown",
   "metadata": {},
   "source": [
    "### Описание данных\n",
    "\n",
    "В датасете содержатся данные первых пользователей приложения — когорты пользователей, которые начали пользоваться приложением в период с 4 по 10 мая включительно.\n",
    "\n",
    "Датасет *game_actions.csv*:\n",
    "\n",
    "- `event_datetime` — время события;\n",
    "- `event` — одно из трёх событий:\n",
    "    1. `building` — объект построен,\n",
    "    2. `finished_stage_1` — первый уровень завершён,\n",
    "    3. `project` — проект завершён;\n",
    "- `building_type` — один из трёх типов здания:\n",
    "    1. `assembly_shop` — сборочный цех,\n",
    "    2. `spaceport` — космопорт,\n",
    "    3. `research_center` — исследовательский центр;\n",
    "- `user_id` — идентификатор пользователя;\n",
    "- `project_type` — тип реализованного проекта;\n",
    "\n",
    "Датасет *ad_cost.csv*:\n",
    "\n",
    "- `day` - день, в который был совершен клик по объявлению\n",
    "- `source` - источник трафика\n",
    "- `cost` - стоимость кликов\n",
    "\n",
    "Датасет user_source.csv содержит колонки:\n",
    "\n",
    "- `user_id` - идентификатор пользователя\n",
    "- `source` - источников, с которого пришёл пользователь, установивший приложение"
   ]
  },
  {
   "cell_type": "markdown",
   "metadata": {},
   "source": [
    "### Сама предобработка"
   ]
  },
  {
   "cell_type": "code",
   "execution_count": 1,
   "metadata": {},
   "outputs": [],
   "source": [
    "# Импортируем необходимые библиотеки\n",
    "import pandas as pd\n",
    "import datetime\n",
    "import matplotlib.pylab as plt\n",
    "import numpy as np\n",
    "import seaborn as sns\n",
    "from scipy import stats as st"
   ]
  },
  {
   "cell_type": "code",
   "execution_count": 2,
   "metadata": {},
   "outputs": [],
   "source": [
    "# Импортируем данные\n",
    "data_actions = pd.read_csv('/datasets/game_actions.csv')\n",
    "data_costs = pd.read_csv('/datasets/ad_costs.csv')\n",
    "data_source = pd.read_csv('/datasets/user_source.csv')"
   ]
  },
  {
   "cell_type": "code",
   "execution_count": 1,
   "metadata": {},
   "outputs": [
    {
     "ename": "NameError",
     "evalue": "name 'data_actions' is not defined",
     "output_type": "error",
     "traceback": [
      "\u001b[0;31m---------------------------------------------------------------------------\u001b[0m",
      "\u001b[0;31mNameError\u001b[0m                                 Traceback (most recent call last)",
      "\u001b[0;32m/tmp/ipykernel_97/2272734500.py\u001b[0m in \u001b[0;36m<module>\u001b[0;34m\u001b[0m\n\u001b[0;32m----> 1\u001b[0;31m \u001b[0mdata_actions\u001b[0m\u001b[0;34m.\u001b[0m\u001b[0minfo\u001b[0m\u001b[0;34m(\u001b[0m\u001b[0;34m)\u001b[0m\u001b[0;34m\u001b[0m\u001b[0;34m\u001b[0m\u001b[0m\n\u001b[0m",
      "\u001b[0;31mNameError\u001b[0m: name 'data_actions' is not defined"
     ]
    }
   ],
   "source": [
    "data_actions.info()"
   ]
  },
  {
   "cell_type": "markdown",
   "metadata": {},
   "source": [
    "В данных есть пропуски. Из встречи с командой знаем, что это норма. Не каждое действие приводит к постройке чего-либо (пропуски в building_type) или к завершению проекта (project_type)"
   ]
  },
  {
   "cell_type": "code",
   "execution_count": 4,
   "metadata": {},
   "outputs": [
    {
     "data": {
      "text/html": [
       "<div>\n",
       "<style scoped>\n",
       "    .dataframe tbody tr th:only-of-type {\n",
       "        vertical-align: middle;\n",
       "    }\n",
       "\n",
       "    .dataframe tbody tr th {\n",
       "        vertical-align: top;\n",
       "    }\n",
       "\n",
       "    .dataframe thead th {\n",
       "        text-align: right;\n",
       "    }\n",
       "</style>\n",
       "<table border=\"1\" class=\"dataframe\">\n",
       "  <thead>\n",
       "    <tr style=\"text-align: right;\">\n",
       "      <th></th>\n",
       "      <th>event_datetime</th>\n",
       "      <th>event</th>\n",
       "      <th>building_type</th>\n",
       "      <th>user_id</th>\n",
       "      <th>project_type</th>\n",
       "    </tr>\n",
       "  </thead>\n",
       "  <tbody>\n",
       "    <tr>\n",
       "      <th>7257</th>\n",
       "      <td>2020-05-04 21:25:23</td>\n",
       "      <td>building</td>\n",
       "      <td>spaceport</td>\n",
       "      <td>989cef6d-0c7a-421f-af8c-5833aab65437</td>\n",
       "      <td>NaN</td>\n",
       "    </tr>\n",
       "    <tr>\n",
       "      <th>88291</th>\n",
       "      <td>2020-05-12 05:08:23</td>\n",
       "      <td>building</td>\n",
       "      <td>spaceport</td>\n",
       "      <td>4c376895-0ef6-427d-a15b-840f7fdd6ff5</td>\n",
       "      <td>NaN</td>\n",
       "    </tr>\n",
       "    <tr>\n",
       "      <th>100283</th>\n",
       "      <td>2020-05-13 18:11:48</td>\n",
       "      <td>building</td>\n",
       "      <td>spaceport</td>\n",
       "      <td>65592301-73ca-4d48-bdf4-77fe894487d2</td>\n",
       "      <td>NaN</td>\n",
       "    </tr>\n",
       "    <tr>\n",
       "      <th>90752</th>\n",
       "      <td>2020-05-12 12:22:07</td>\n",
       "      <td>building</td>\n",
       "      <td>spaceport</td>\n",
       "      <td>7d7e8994-b81a-49b3-92cf-e48a93a046c7</td>\n",
       "      <td>NaN</td>\n",
       "    </tr>\n",
       "    <tr>\n",
       "      <th>11858</th>\n",
       "      <td>2020-05-05 09:58:53</td>\n",
       "      <td>building</td>\n",
       "      <td>assembly_shop</td>\n",
       "      <td>c9ac4987-19f3-4acd-ac73-37c4eab17ff4</td>\n",
       "      <td>NaN</td>\n",
       "    </tr>\n",
       "  </tbody>\n",
       "</table>\n",
       "</div>"
      ],
      "text/plain": [
       "             event_datetime     event  building_type  \\\n",
       "7257    2020-05-04 21:25:23  building      spaceport   \n",
       "88291   2020-05-12 05:08:23  building      spaceport   \n",
       "100283  2020-05-13 18:11:48  building      spaceport   \n",
       "90752   2020-05-12 12:22:07  building      spaceport   \n",
       "11858   2020-05-05 09:58:53  building  assembly_shop   \n",
       "\n",
       "                                     user_id project_type  \n",
       "7257    989cef6d-0c7a-421f-af8c-5833aab65437          NaN  \n",
       "88291   4c376895-0ef6-427d-a15b-840f7fdd6ff5          NaN  \n",
       "100283  65592301-73ca-4d48-bdf4-77fe894487d2          NaN  \n",
       "90752   7d7e8994-b81a-49b3-92cf-e48a93a046c7          NaN  \n",
       "11858   c9ac4987-19f3-4acd-ac73-37c4eab17ff4          NaN  "
      ]
     },
     "execution_count": 4,
     "metadata": {},
     "output_type": "execute_result"
    }
   ],
   "source": [
    "data_actions.sample(5)"
   ]
  },
  {
   "cell_type": "code",
   "execution_count": 5,
   "metadata": {},
   "outputs": [
    {
     "data": {
      "text/html": [
       "<div>\n",
       "<style scoped>\n",
       "    .dataframe tbody tr th:only-of-type {\n",
       "        vertical-align: middle;\n",
       "    }\n",
       "\n",
       "    .dataframe tbody tr th {\n",
       "        vertical-align: top;\n",
       "    }\n",
       "\n",
       "    .dataframe thead th {\n",
       "        text-align: right;\n",
       "    }\n",
       "</style>\n",
       "<table border=\"1\" class=\"dataframe\">\n",
       "  <thead>\n",
       "    <tr style=\"text-align: right;\">\n",
       "      <th></th>\n",
       "      <th>event_datetime</th>\n",
       "      <th>event</th>\n",
       "      <th>building_type</th>\n",
       "      <th>user_id</th>\n",
       "      <th>project_type</th>\n",
       "    </tr>\n",
       "  </thead>\n",
       "  <tbody>\n",
       "    <tr>\n",
       "      <th>74891</th>\n",
       "      <td>2020-05-10 18:41:56</td>\n",
       "      <td>building</td>\n",
       "      <td>research_center</td>\n",
       "      <td>c9af55d2-b0ae-4bb4-b3d5-f32aa9ac03af</td>\n",
       "      <td>NaN</td>\n",
       "    </tr>\n",
       "  </tbody>\n",
       "</table>\n",
       "</div>"
      ],
      "text/plain": [
       "            event_datetime     event    building_type  \\\n",
       "74891  2020-05-10 18:41:56  building  research_center   \n",
       "\n",
       "                                    user_id project_type  \n",
       "74891  c9af55d2-b0ae-4bb4-b3d5-f32aa9ac03af          NaN  "
      ]
     },
     "execution_count": 5,
     "metadata": {},
     "output_type": "execute_result"
    }
   ],
   "source": [
    "data_actions[data_actions.duplicated()]"
   ]
  },
  {
   "cell_type": "code",
   "execution_count": 6,
   "metadata": {},
   "outputs": [
    {
     "name": "stdout",
     "output_type": "stream",
     "text": [
      "<class 'pandas.core.frame.DataFrame'>\n",
      "Int64Index: 135639 entries, 0 to 135639\n",
      "Data columns (total 5 columns):\n",
      " #   Column          Non-Null Count   Dtype         \n",
      "---  ------          --------------   -----         \n",
      " 0   event_datetime  135639 non-null  datetime64[ns]\n",
      " 1   event           135639 non-null  object        \n",
      " 2   building_type   127956 non-null  object        \n",
      " 3   user_id         135639 non-null  object        \n",
      " 4   project_type    1866 non-null    object        \n",
      "dtypes: datetime64[ns](1), object(4)\n",
      "memory usage: 6.2+ MB\n"
     ]
    }
   ],
   "source": [
    "# В столбце event_datetime меняю формат на дату\n",
    "data_actions['event_datetime'] = pd.to_datetime(data_actions['event_datetime'])\n",
    "# И приношу строку-дубль в жертву богу аналитики\n",
    "data_actions.drop_duplicates(inplace=True)\n",
    "# Проверяем результат\n",
    "data_actions.info()"
   ]
  },
  {
   "cell_type": "markdown",
   "metadata": {},
   "source": [
    "Избавился от дубликатов с первом датафрейме, перехожу ко второму."
   ]
  },
  {
   "cell_type": "code",
   "execution_count": 7,
   "metadata": {},
   "outputs": [
    {
     "name": "stdout",
     "output_type": "stream",
     "text": [
      "<class 'pandas.core.frame.DataFrame'>\n",
      "RangeIndex: 28 entries, 0 to 27\n",
      "Data columns (total 3 columns):\n",
      " #   Column  Non-Null Count  Dtype  \n",
      "---  ------  --------------  -----  \n",
      " 0   source  28 non-null     object \n",
      " 1   day     28 non-null     object \n",
      " 2   cost    28 non-null     float64\n",
      "dtypes: float64(1), object(2)\n",
      "memory usage: 800.0+ bytes\n"
     ]
    }
   ],
   "source": [
    "# Теперь аналогичная работа с data_costs\n",
    "data_costs.info()"
   ]
  },
  {
   "cell_type": "code",
   "execution_count": 8,
   "metadata": {},
   "outputs": [
    {
     "data": {
      "text/html": [
       "<div>\n",
       "<style scoped>\n",
       "    .dataframe tbody tr th:only-of-type {\n",
       "        vertical-align: middle;\n",
       "    }\n",
       "\n",
       "    .dataframe tbody tr th {\n",
       "        vertical-align: top;\n",
       "    }\n",
       "\n",
       "    .dataframe thead th {\n",
       "        text-align: right;\n",
       "    }\n",
       "</style>\n",
       "<table border=\"1\" class=\"dataframe\">\n",
       "  <thead>\n",
       "    <tr style=\"text-align: right;\">\n",
       "      <th></th>\n",
       "      <th>source</th>\n",
       "      <th>day</th>\n",
       "      <th>cost</th>\n",
       "    </tr>\n",
       "  </thead>\n",
       "  <tbody>\n",
       "  </tbody>\n",
       "</table>\n",
       "</div>"
      ],
      "text/plain": [
       "Empty DataFrame\n",
       "Columns: [source, day, cost]\n",
       "Index: []"
      ]
     },
     "execution_count": 8,
     "metadata": {},
     "output_type": "execute_result"
    }
   ],
   "source": [
    "data_costs[data_costs.duplicated()]"
   ]
  },
  {
   "cell_type": "code",
   "execution_count": 9,
   "metadata": {},
   "outputs": [
    {
     "data": {
      "text/html": [
       "<div>\n",
       "<style scoped>\n",
       "    .dataframe tbody tr th:only-of-type {\n",
       "        vertical-align: middle;\n",
       "    }\n",
       "\n",
       "    .dataframe tbody tr th {\n",
       "        vertical-align: top;\n",
       "    }\n",
       "\n",
       "    .dataframe thead th {\n",
       "        text-align: right;\n",
       "    }\n",
       "</style>\n",
       "<table border=\"1\" class=\"dataframe\">\n",
       "  <thead>\n",
       "    <tr style=\"text-align: right;\">\n",
       "      <th></th>\n",
       "      <th>source</th>\n",
       "      <th>day</th>\n",
       "      <th>cost</th>\n",
       "    </tr>\n",
       "  </thead>\n",
       "  <tbody>\n",
       "    <tr>\n",
       "      <th>0</th>\n",
       "      <td>facebook_ads</td>\n",
       "      <td>2020-05-03</td>\n",
       "      <td>935.882786</td>\n",
       "    </tr>\n",
       "    <tr>\n",
       "      <th>1</th>\n",
       "      <td>facebook_ads</td>\n",
       "      <td>2020-05-04</td>\n",
       "      <td>548.354480</td>\n",
       "    </tr>\n",
       "    <tr>\n",
       "      <th>2</th>\n",
       "      <td>facebook_ads</td>\n",
       "      <td>2020-05-05</td>\n",
       "      <td>260.185754</td>\n",
       "    </tr>\n",
       "    <tr>\n",
       "      <th>3</th>\n",
       "      <td>facebook_ads</td>\n",
       "      <td>2020-05-06</td>\n",
       "      <td>177.982200</td>\n",
       "    </tr>\n",
       "    <tr>\n",
       "      <th>4</th>\n",
       "      <td>facebook_ads</td>\n",
       "      <td>2020-05-07</td>\n",
       "      <td>111.766796</td>\n",
       "    </tr>\n",
       "    <tr>\n",
       "      <th>5</th>\n",
       "      <td>facebook_ads</td>\n",
       "      <td>2020-05-08</td>\n",
       "      <td>68.009276</td>\n",
       "    </tr>\n",
       "    <tr>\n",
       "      <th>6</th>\n",
       "      <td>facebook_ads</td>\n",
       "      <td>2020-05-09</td>\n",
       "      <td>38.723350</td>\n",
       "    </tr>\n",
       "    <tr>\n",
       "      <th>7</th>\n",
       "      <td>instagram_new_adverts</td>\n",
       "      <td>2020-05-03</td>\n",
       "      <td>943.204717</td>\n",
       "    </tr>\n",
       "    <tr>\n",
       "      <th>8</th>\n",
       "      <td>instagram_new_adverts</td>\n",
       "      <td>2020-05-04</td>\n",
       "      <td>502.925451</td>\n",
       "    </tr>\n",
       "    <tr>\n",
       "      <th>9</th>\n",
       "      <td>instagram_new_adverts</td>\n",
       "      <td>2020-05-05</td>\n",
       "      <td>313.970984</td>\n",
       "    </tr>\n",
       "    <tr>\n",
       "      <th>10</th>\n",
       "      <td>instagram_new_adverts</td>\n",
       "      <td>2020-05-06</td>\n",
       "      <td>173.071145</td>\n",
       "    </tr>\n",
       "    <tr>\n",
       "      <th>11</th>\n",
       "      <td>instagram_new_adverts</td>\n",
       "      <td>2020-05-07</td>\n",
       "      <td>109.915254</td>\n",
       "    </tr>\n",
       "    <tr>\n",
       "      <th>12</th>\n",
       "      <td>instagram_new_adverts</td>\n",
       "      <td>2020-05-08</td>\n",
       "      <td>71.578739</td>\n",
       "    </tr>\n",
       "    <tr>\n",
       "      <th>13</th>\n",
       "      <td>instagram_new_adverts</td>\n",
       "      <td>2020-05-09</td>\n",
       "      <td>46.775400</td>\n",
       "    </tr>\n",
       "    <tr>\n",
       "      <th>14</th>\n",
       "      <td>yandex_direct</td>\n",
       "      <td>2020-05-03</td>\n",
       "      <td>969.139394</td>\n",
       "    </tr>\n",
       "    <tr>\n",
       "      <th>15</th>\n",
       "      <td>yandex_direct</td>\n",
       "      <td>2020-05-04</td>\n",
       "      <td>554.651494</td>\n",
       "    </tr>\n",
       "    <tr>\n",
       "      <th>16</th>\n",
       "      <td>yandex_direct</td>\n",
       "      <td>2020-05-05</td>\n",
       "      <td>308.232990</td>\n",
       "    </tr>\n",
       "    <tr>\n",
       "      <th>17</th>\n",
       "      <td>yandex_direct</td>\n",
       "      <td>2020-05-06</td>\n",
       "      <td>180.917099</td>\n",
       "    </tr>\n",
       "    <tr>\n",
       "      <th>18</th>\n",
       "      <td>yandex_direct</td>\n",
       "      <td>2020-05-07</td>\n",
       "      <td>114.429338</td>\n",
       "    </tr>\n",
       "    <tr>\n",
       "      <th>19</th>\n",
       "      <td>yandex_direct</td>\n",
       "      <td>2020-05-08</td>\n",
       "      <td>62.961630</td>\n",
       "    </tr>\n",
       "    <tr>\n",
       "      <th>20</th>\n",
       "      <td>yandex_direct</td>\n",
       "      <td>2020-05-09</td>\n",
       "      <td>42.779505</td>\n",
       "    </tr>\n",
       "    <tr>\n",
       "      <th>21</th>\n",
       "      <td>youtube_channel_reklama</td>\n",
       "      <td>2020-05-03</td>\n",
       "      <td>454.224943</td>\n",
       "    </tr>\n",
       "    <tr>\n",
       "      <th>22</th>\n",
       "      <td>youtube_channel_reklama</td>\n",
       "      <td>2020-05-04</td>\n",
       "      <td>259.073224</td>\n",
       "    </tr>\n",
       "    <tr>\n",
       "      <th>23</th>\n",
       "      <td>youtube_channel_reklama</td>\n",
       "      <td>2020-05-05</td>\n",
       "      <td>147.041741</td>\n",
       "    </tr>\n",
       "    <tr>\n",
       "      <th>24</th>\n",
       "      <td>youtube_channel_reklama</td>\n",
       "      <td>2020-05-06</td>\n",
       "      <td>88.506074</td>\n",
       "    </tr>\n",
       "    <tr>\n",
       "      <th>25</th>\n",
       "      <td>youtube_channel_reklama</td>\n",
       "      <td>2020-05-07</td>\n",
       "      <td>55.740645</td>\n",
       "    </tr>\n",
       "    <tr>\n",
       "      <th>26</th>\n",
       "      <td>youtube_channel_reklama</td>\n",
       "      <td>2020-05-08</td>\n",
       "      <td>40.217907</td>\n",
       "    </tr>\n",
       "    <tr>\n",
       "      <th>27</th>\n",
       "      <td>youtube_channel_reklama</td>\n",
       "      <td>2020-05-09</td>\n",
       "      <td>23.314669</td>\n",
       "    </tr>\n",
       "  </tbody>\n",
       "</table>\n",
       "</div>"
      ],
      "text/plain": [
       "                     source         day        cost\n",
       "0              facebook_ads  2020-05-03  935.882786\n",
       "1              facebook_ads  2020-05-04  548.354480\n",
       "2              facebook_ads  2020-05-05  260.185754\n",
       "3              facebook_ads  2020-05-06  177.982200\n",
       "4              facebook_ads  2020-05-07  111.766796\n",
       "5              facebook_ads  2020-05-08   68.009276\n",
       "6              facebook_ads  2020-05-09   38.723350\n",
       "7     instagram_new_adverts  2020-05-03  943.204717\n",
       "8     instagram_new_adverts  2020-05-04  502.925451\n",
       "9     instagram_new_adverts  2020-05-05  313.970984\n",
       "10    instagram_new_adverts  2020-05-06  173.071145\n",
       "11    instagram_new_adverts  2020-05-07  109.915254\n",
       "12    instagram_new_adverts  2020-05-08   71.578739\n",
       "13    instagram_new_adverts  2020-05-09   46.775400\n",
       "14            yandex_direct  2020-05-03  969.139394\n",
       "15            yandex_direct  2020-05-04  554.651494\n",
       "16            yandex_direct  2020-05-05  308.232990\n",
       "17            yandex_direct  2020-05-06  180.917099\n",
       "18            yandex_direct  2020-05-07  114.429338\n",
       "19            yandex_direct  2020-05-08   62.961630\n",
       "20            yandex_direct  2020-05-09   42.779505\n",
       "21  youtube_channel_reklama  2020-05-03  454.224943\n",
       "22  youtube_channel_reklama  2020-05-04  259.073224\n",
       "23  youtube_channel_reklama  2020-05-05  147.041741\n",
       "24  youtube_channel_reklama  2020-05-06   88.506074\n",
       "25  youtube_channel_reklama  2020-05-07   55.740645\n",
       "26  youtube_channel_reklama  2020-05-08   40.217907\n",
       "27  youtube_channel_reklama  2020-05-09   23.314669"
      ]
     },
     "execution_count": 9,
     "metadata": {},
     "output_type": "execute_result"
    }
   ],
   "source": [
    "data_costs"
   ]
  },
  {
   "cell_type": "markdown",
   "metadata": {},
   "source": [
    "Датафрейм небольшой, пробежался глазами. Поменяю дату на дату. Видно снижение расходов с каждым днем. \n",
    "Вряд ли это скидка, каждый день мы получали меньше клиентов? Проверим на следующем этапе."
   ]
  },
  {
   "cell_type": "code",
   "execution_count": 10,
   "metadata": {},
   "outputs": [
    {
     "name": "stdout",
     "output_type": "stream",
     "text": [
      "<class 'pandas.core.frame.DataFrame'>\n",
      "RangeIndex: 28 entries, 0 to 27\n",
      "Data columns (total 3 columns):\n",
      " #   Column  Non-Null Count  Dtype         \n",
      "---  ------  --------------  -----         \n",
      " 0   source  28 non-null     object        \n",
      " 1   day     28 non-null     datetime64[ns]\n",
      " 2   cost    28 non-null     float64       \n",
      "dtypes: datetime64[ns](1), float64(1), object(1)\n",
      "memory usage: 800.0+ bytes\n"
     ]
    }
   ],
   "source": [
    "data_costs['day'] = pd.to_datetime(data_costs['day'])\n",
    "data_costs.info()"
   ]
  },
  {
   "cell_type": "code",
   "execution_count": 11,
   "metadata": {},
   "outputs": [
    {
     "name": "stdout",
     "output_type": "stream",
     "text": [
      "<class 'pandas.core.frame.DataFrame'>\n",
      "RangeIndex: 13576 entries, 0 to 13575\n",
      "Data columns (total 2 columns):\n",
      " #   Column   Non-Null Count  Dtype \n",
      "---  ------   --------------  ----- \n",
      " 0   user_id  13576 non-null  object\n",
      " 1   source   13576 non-null  object\n",
      "dtypes: object(2)\n",
      "memory usage: 212.2+ KB\n"
     ]
    }
   ],
   "source": [
    "# Теперь последний датафрейм\n",
    "data_source.info()"
   ]
  },
  {
   "cell_type": "code",
   "execution_count": 12,
   "metadata": {},
   "outputs": [
    {
     "data": {
      "text/html": [
       "<div>\n",
       "<style scoped>\n",
       "    .dataframe tbody tr th:only-of-type {\n",
       "        vertical-align: middle;\n",
       "    }\n",
       "\n",
       "    .dataframe tbody tr th {\n",
       "        vertical-align: top;\n",
       "    }\n",
       "\n",
       "    .dataframe thead th {\n",
       "        text-align: right;\n",
       "    }\n",
       "</style>\n",
       "<table border=\"1\" class=\"dataframe\">\n",
       "  <thead>\n",
       "    <tr style=\"text-align: right;\">\n",
       "      <th></th>\n",
       "      <th>user_id</th>\n",
       "      <th>source</th>\n",
       "    </tr>\n",
       "  </thead>\n",
       "  <tbody>\n",
       "    <tr>\n",
       "      <th>5757</th>\n",
       "      <td>6b8f8f8a-c33c-471f-b062-bc28f6c6f399</td>\n",
       "      <td>facebook_ads</td>\n",
       "    </tr>\n",
       "    <tr>\n",
       "      <th>10220</th>\n",
       "      <td>c1159b40-d360-47ff-ae8e-92a3bc69d84e</td>\n",
       "      <td>instagram_new_adverts</td>\n",
       "    </tr>\n",
       "    <tr>\n",
       "      <th>10552</th>\n",
       "      <td>c70542e1-eff7-4049-95f1-856c055ce8c1</td>\n",
       "      <td>yandex_direct</td>\n",
       "    </tr>\n",
       "    <tr>\n",
       "      <th>13064</th>\n",
       "      <td>f683184c-d5b6-46f3-828b-1ea88d4bd630</td>\n",
       "      <td>facebook_ads</td>\n",
       "    </tr>\n",
       "    <tr>\n",
       "      <th>9705</th>\n",
       "      <td>b75b881c-41b1-4953-abde-e49a8a104322</td>\n",
       "      <td>youtube_channel_reklama</td>\n",
       "    </tr>\n",
       "    <tr>\n",
       "      <th>5306</th>\n",
       "      <td>6324208a-94d8-47c4-9bd3-caeed8b03e71</td>\n",
       "      <td>youtube_channel_reklama</td>\n",
       "    </tr>\n",
       "    <tr>\n",
       "      <th>10598</th>\n",
       "      <td>c7c25df6-ac03-4ac3-a278-27ed8f98da6a</td>\n",
       "      <td>yandex_direct</td>\n",
       "    </tr>\n",
       "    <tr>\n",
       "      <th>7799</th>\n",
       "      <td>91fe8afc-18e3-41aa-a1c9-bef4dcc98ed2</td>\n",
       "      <td>instagram_new_adverts</td>\n",
       "    </tr>\n",
       "    <tr>\n",
       "      <th>6962</th>\n",
       "      <td>8177f96f-8e32-4d20-a65f-8213904d9fd1</td>\n",
       "      <td>youtube_channel_reklama</td>\n",
       "    </tr>\n",
       "    <tr>\n",
       "      <th>10793</th>\n",
       "      <td>cbed31f3-faad-441b-9866-9aa5c23e3427</td>\n",
       "      <td>yandex_direct</td>\n",
       "    </tr>\n",
       "  </tbody>\n",
       "</table>\n",
       "</div>"
      ],
      "text/plain": [
       "                                    user_id                   source\n",
       "5757   6b8f8f8a-c33c-471f-b062-bc28f6c6f399             facebook_ads\n",
       "10220  c1159b40-d360-47ff-ae8e-92a3bc69d84e    instagram_new_adverts\n",
       "10552  c70542e1-eff7-4049-95f1-856c055ce8c1            yandex_direct\n",
       "13064  f683184c-d5b6-46f3-828b-1ea88d4bd630             facebook_ads\n",
       "9705   b75b881c-41b1-4953-abde-e49a8a104322  youtube_channel_reklama\n",
       "5306   6324208a-94d8-47c4-9bd3-caeed8b03e71  youtube_channel_reklama\n",
       "10598  c7c25df6-ac03-4ac3-a278-27ed8f98da6a            yandex_direct\n",
       "7799   91fe8afc-18e3-41aa-a1c9-bef4dcc98ed2    instagram_new_adverts\n",
       "6962   8177f96f-8e32-4d20-a65f-8213904d9fd1  youtube_channel_reklama\n",
       "10793  cbed31f3-faad-441b-9866-9aa5c23e3427            yandex_direct"
      ]
     },
     "execution_count": 12,
     "metadata": {},
     "output_type": "execute_result"
    }
   ],
   "source": [
    "# А тут все, внезапно, нормально\n",
    "data_source.sample(10)"
   ]
  },
  {
   "cell_type": "code",
   "execution_count": 13,
   "metadata": {},
   "outputs": [
    {
     "data": {
      "text/html": [
       "<div>\n",
       "<style scoped>\n",
       "    .dataframe tbody tr th:only-of-type {\n",
       "        vertical-align: middle;\n",
       "    }\n",
       "\n",
       "    .dataframe tbody tr th {\n",
       "        vertical-align: top;\n",
       "    }\n",
       "\n",
       "    .dataframe thead th {\n",
       "        text-align: right;\n",
       "    }\n",
       "</style>\n",
       "<table border=\"1\" class=\"dataframe\">\n",
       "  <thead>\n",
       "    <tr style=\"text-align: right;\">\n",
       "      <th></th>\n",
       "      <th>user_id</th>\n",
       "      <th>source</th>\n",
       "    </tr>\n",
       "  </thead>\n",
       "  <tbody>\n",
       "  </tbody>\n",
       "</table>\n",
       "</div>"
      ],
      "text/plain": [
       "Empty DataFrame\n",
       "Columns: [user_id, source]\n",
       "Index: []"
      ]
     },
     "execution_count": 13,
     "metadata": {},
     "output_type": "execute_result"
    }
   ],
   "source": [
    "data_source[data_source.duplicated()]"
   ]
  },
  {
   "cell_type": "code",
   "execution_count": 14,
   "metadata": {},
   "outputs": [
    {
     "data": {
      "text/plain": [
       "array(['facebook_ads', 'yandex_direct', 'youtube_channel_reklama',\n",
       "       'instagram_new_adverts'], dtype=object)"
      ]
     },
     "execution_count": 14,
     "metadata": {},
     "output_type": "execute_result"
    }
   ],
   "source": [
    "# Проверю на \"опечатки\" в источнике.\n",
    "data_source['source'].unique()"
   ]
  },
  {
   "cell_type": "markdown",
   "metadata": {},
   "source": [
    "Итог предобработки данных. \n",
    "Данные пригодны для анализа. Формат подходящий, данных достаточно. Пропуски в данных не требуют замены, заполнения или удаления(Техническое пояснение в следующем абзаце). Приступаю к этапу анализа данных. \n",
    "    \n",
    "\n",
    "Пояснение, почему пропуски не требуют обработки: пропуски лишь в тех строках, где пользователь не строит какое-либо здание, а происходит событие завершения уровня или проекта. Соответственно у нас 1866 строк с завершением проекта и 5817 строк с завершением уровня, что в сумме с непустыми полями строительства (127 956) дает 135 639 строк. "
   ]
  },
  {
   "cell_type": "markdown",
   "metadata": {},
   "source": [
    "## Анализ данных"
   ]
  },
  {
   "cell_type": "markdown",
   "metadata": {},
   "source": [
    "Основная задача - анализ истоничков привлечения и затрат на них с ранжированием по эффективности для нашей игры, но сначала покручу данные в разных разрезах. Проверю допущение, что пользователь тапнул и в тот же день начал играть, и расходы на рекламу падают, потому что с каждым днем таких новых игроков все меньше."
   ]
  },
  {
   "cell_type": "markdown",
   "metadata": {},
   "source": [
    "### Анализ расходов"
   ]
  },
  {
   "cell_type": "code",
   "execution_count": 18,
   "metadata": {},
   "outputs": [
    {
     "data": {
      "text/plain": [
       "day\n",
       "2020-05-04    5860\n",
       "2020-05-05    3361\n",
       "2020-05-06    1847\n",
       "2020-05-07    1109\n",
       "2020-05-08     688\n",
       "2020-05-09     440\n",
       "2020-05-10     271\n",
       "Name: user_id, dtype: int64"
      ]
     },
     "execution_count": 18,
     "metadata": {},
     "output_type": "execute_result"
    }
   ],
   "source": [
    "# Для группировки по дням добавлю дату без точного времени\n",
    "data_actions['day'] = data_actions['event_datetime'].dt.date\n",
    "\n",
    "# Теперь выясняю, когда и сколько игроков начали играть. Надеюсь это не худший велосипед для поиска уников.\n",
    "data_temp = data_actions.groupby(['user_id'])['day'].first().reset_index()\n",
    "data_temp.groupby('day')['user_id'].count()"
   ]
  },
  {
   "cell_type": "code",
   "execution_count": 19,
   "metadata": {},
   "outputs": [
    {
     "data": {
      "text/plain": [
       "source\n",
       "yandex_direct              4817\n",
       "instagram_new_adverts      3347\n",
       "facebook_ads               2726\n",
       "youtube_channel_reklama    2686\n",
       "Name: user_id, dtype: int64"
      ]
     },
     "execution_count": 19,
     "metadata": {},
     "output_type": "execute_result"
    }
   ],
   "source": [
    "# А сколько нам принес каждый канал?\n",
    "data_source.groupby('source')['user_id'].count().sort_values(ascending=False)"
   ]
  },
  {
   "cell_type": "markdown",
   "metadata": {},
   "source": [
    "Количество пользователей в двух группах сошлось, уже результат (не накосячил с дубликатами и группировкой)! Теперь попробую прикинуть \"ценник\" этих пользователей, а потом уже можно и их поведение начать смотреть. По идее достаточно поделить количество пользователей на сумму трат за неделю и получим cost per user."
   ]
  },
  {
   "cell_type": "code",
   "execution_count": 20,
   "metadata": {},
   "outputs": [
    {
     "data": {
      "text/html": [
       "<div>\n",
       "<style scoped>\n",
       "    .dataframe tbody tr th:only-of-type {\n",
       "        vertical-align: middle;\n",
       "    }\n",
       "\n",
       "    .dataframe tbody tr th {\n",
       "        vertical-align: top;\n",
       "    }\n",
       "\n",
       "    .dataframe thead th {\n",
       "        text-align: right;\n",
       "    }\n",
       "</style>\n",
       "<table border=\"1\" class=\"dataframe\">\n",
       "  <thead>\n",
       "    <tr style=\"text-align: right;\">\n",
       "      <th></th>\n",
       "      <th>source</th>\n",
       "      <th>cost</th>\n",
       "      <th>users_count</th>\n",
       "      <th>cost_per_user</th>\n",
       "    </tr>\n",
       "  </thead>\n",
       "  <tbody>\n",
       "    <tr>\n",
       "      <th>0</th>\n",
       "      <td>facebook_ads</td>\n",
       "      <td>2140.904643</td>\n",
       "      <td>2726</td>\n",
       "      <td>0.79</td>\n",
       "    </tr>\n",
       "    <tr>\n",
       "      <th>1</th>\n",
       "      <td>instagram_new_adverts</td>\n",
       "      <td>2161.441691</td>\n",
       "      <td>3347</td>\n",
       "      <td>0.65</td>\n",
       "    </tr>\n",
       "    <tr>\n",
       "      <th>2</th>\n",
       "      <td>yandex_direct</td>\n",
       "      <td>2233.111449</td>\n",
       "      <td>4817</td>\n",
       "      <td>0.46</td>\n",
       "    </tr>\n",
       "    <tr>\n",
       "      <th>3</th>\n",
       "      <td>youtube_channel_reklama</td>\n",
       "      <td>1068.119204</td>\n",
       "      <td>2686</td>\n",
       "      <td>0.40</td>\n",
       "    </tr>\n",
       "  </tbody>\n",
       "</table>\n",
       "</div>"
      ],
      "text/plain": [
       "                    source         cost  users_count  cost_per_user\n",
       "0             facebook_ads  2140.904643         2726           0.79\n",
       "1    instagram_new_adverts  2161.441691         3347           0.65\n",
       "2            yandex_direct  2233.111449         4817           0.46\n",
       "3  youtube_channel_reklama  1068.119204         2686           0.40"
      ]
     },
     "execution_count": 20,
     "metadata": {},
     "output_type": "execute_result"
    }
   ],
   "source": [
    "# Собираем общую таблиц из количества игроков и расходов на канал\n",
    "data_summary = data_costs.groupby('source')['cost'].sum().reset_index()\n",
    "data_summary = data_summary.merge(data_source.groupby('source')['user_id'].count().reset_index(), how='inner', on='source')\n",
    "# Переименовываем колонку для удобства\n",
    "data_summary.rename(columns={'user_id':'users_count'}, inplace=True)\n",
    "# Получаем ценник\n",
    "data_summary['cost_per_user'] = round(data_summary['cost'] / data_summary['users_count'],2)\n",
    "# Выводим результат\n",
    "data_summary.sort_values(by='cost_per_user', ascending=False)"
   ]
  },
  {
   "cell_type": "markdown",
   "metadata": {},
   "source": [
    "Теперь мы знаем стоимость наших космических братьев, разница аж в 2 раза между источниками. Теперь оценим \"качество\" игроков, чтобы понять, какой источник стоит своих денег."
   ]
  },
  {
   "cell_type": "markdown",
   "metadata": {},
   "source": [
    "### Анализ поведения"
   ]
  },
  {
   "cell_type": "markdown",
   "metadata": {},
   "source": [
    "Нам необходимо понять, как разные игроки проходят первый уровень и как они к этому идут. В разрезе источника привлечения. Вдобавок для следующего этапа нужно оценить время, за которое они побеждают."
   ]
  },
  {
   "cell_type": "code",
   "execution_count": 21,
   "metadata": {},
   "outputs": [],
   "source": [
    "# Добавляю, откуда пришел игрок в таблицу действий\n",
    "data_actions = data_actions.merge(data_source, on='user_id')"
   ]
  },
  {
   "cell_type": "code",
   "execution_count": 22,
   "metadata": {},
   "outputs": [
    {
     "data": {
      "text/plain": [
       "source\n",
       "yandex_direct              2042\n",
       "instagram_new_adverts      1466\n",
       "youtube_channel_reklama    1159\n",
       "facebook_ads               1150\n",
       "Name: event, dtype: int64"
      ]
     },
     "execution_count": 22,
     "metadata": {},
     "output_type": "execute_result"
    }
   ],
   "source": [
    "# Смотрим сколько игроков прошли уровень и чьи они\n",
    "data_actions[data_actions['event']=='finished_stage_1'].groupby('source')['event'].count().sort_values(ascending=False)"
   ]
  },
  {
   "cell_type": "markdown",
   "metadata": {},
   "source": [
    "Из этого уже можно считать конверсию, но нам еще нужно разделение на военную и мирную победу. Посчитаю их и объединию в одну таблицу результаты."
   ]
  },
  {
   "cell_type": "code",
   "execution_count": 23,
   "metadata": {},
   "outputs": [
    {
     "data": {
      "text/plain": [
       "source\n",
       "facebook_ads               391\n",
       "instagram_new_adverts      476\n",
       "yandex_direct              620\n",
       "youtube_channel_reklama    379\n",
       "Name: event, dtype: int64"
      ]
     },
     "execution_count": 23,
     "metadata": {},
     "output_type": "execute_result"
    }
   ],
   "source": [
    "# Это умельцы, завершившие проект, но есть нюанс... Вдруг они закрыли проект, но не перешли на другой уровень или пошли еще и \n",
    "# физически устранять опонента. Проверю\n",
    "data_actions[data_actions['project_type'] =='satellite_orbital_assembly'].groupby('source')['event'].count()"
   ]
  },
  {
   "cell_type": "code",
   "execution_count": 24,
   "metadata": {},
   "outputs": [
    {
     "data": {
      "text/plain": [
       "1866"
      ]
     },
     "execution_count": 24,
     "metadata": {},
     "output_type": "execute_result"
    }
   ],
   "source": [
    "# Собираю список тех, кто завершил проект. \n",
    "satellite_lovers_list = data_actions[data_actions['project_type'] =='satellite_orbital_assembly']['user_id'].tolist()\n",
    "# Собираю из них временный датафрейм и считаю, все ли они завершили уровень\n",
    "data_temp = data_actions[data_actions['user_id'].isin(satellite_lovers_list)]\n",
    "data_temp[data_temp['event']=='finished_stage_1']['user_id'].count()"
   ]
  },
  {
   "cell_type": "markdown",
   "metadata": {},
   "source": [
    "Сумма совпала. Отлично, свожу этих игроков в summary"
   ]
  },
  {
   "cell_type": "code",
   "execution_count": 25,
   "metadata": {},
   "outputs": [
    {
     "data": {
      "text/html": [
       "<div>\n",
       "<style scoped>\n",
       "    .dataframe tbody tr th:only-of-type {\n",
       "        vertical-align: middle;\n",
       "    }\n",
       "\n",
       "    .dataframe tbody tr th {\n",
       "        vertical-align: top;\n",
       "    }\n",
       "\n",
       "    .dataframe thead th {\n",
       "        text-align: right;\n",
       "    }\n",
       "</style>\n",
       "<table border=\"1\" class=\"dataframe\">\n",
       "  <thead>\n",
       "    <tr style=\"text-align: right;\">\n",
       "      <th></th>\n",
       "      <th>source</th>\n",
       "      <th>cost</th>\n",
       "      <th>users_count</th>\n",
       "      <th>cost_per_user</th>\n",
       "      <th>finished_stage_1</th>\n",
       "      <th>finished_by_pve</th>\n",
       "      <th>finished_by_pvp</th>\n",
       "    </tr>\n",
       "  </thead>\n",
       "  <tbody>\n",
       "    <tr>\n",
       "      <th>0</th>\n",
       "      <td>facebook_ads</td>\n",
       "      <td>2140.904643</td>\n",
       "      <td>2726</td>\n",
       "      <td>0.79</td>\n",
       "      <td>1150</td>\n",
       "      <td>391</td>\n",
       "      <td>759</td>\n",
       "    </tr>\n",
       "    <tr>\n",
       "      <th>1</th>\n",
       "      <td>instagram_new_adverts</td>\n",
       "      <td>2161.441691</td>\n",
       "      <td>3347</td>\n",
       "      <td>0.65</td>\n",
       "      <td>1466</td>\n",
       "      <td>476</td>\n",
       "      <td>990</td>\n",
       "    </tr>\n",
       "    <tr>\n",
       "      <th>2</th>\n",
       "      <td>yandex_direct</td>\n",
       "      <td>2233.111449</td>\n",
       "      <td>4817</td>\n",
       "      <td>0.46</td>\n",
       "      <td>2042</td>\n",
       "      <td>620</td>\n",
       "      <td>1422</td>\n",
       "    </tr>\n",
       "    <tr>\n",
       "      <th>3</th>\n",
       "      <td>youtube_channel_reklama</td>\n",
       "      <td>1068.119204</td>\n",
       "      <td>2686</td>\n",
       "      <td>0.40</td>\n",
       "      <td>1159</td>\n",
       "      <td>379</td>\n",
       "      <td>780</td>\n",
       "    </tr>\n",
       "  </tbody>\n",
       "</table>\n",
       "</div>"
      ],
      "text/plain": [
       "                    source         cost  users_count  cost_per_user  \\\n",
       "0             facebook_ads  2140.904643         2726           0.79   \n",
       "1    instagram_new_adverts  2161.441691         3347           0.65   \n",
       "2            yandex_direct  2233.111449         4817           0.46   \n",
       "3  youtube_channel_reklama  1068.119204         2686           0.40   \n",
       "\n",
       "   finished_stage_1  finished_by_pve  finished_by_pvp  \n",
       "0              1150              391              759  \n",
       "1              1466              476              990  \n",
       "2              2042              620             1422  \n",
       "3              1159              379              780  "
      ]
     },
     "execution_count": 25,
     "metadata": {},
     "output_type": "execute_result"
    }
   ],
   "source": [
    "# Добавляем всех, кто победил\n",
    "data_summary = data_summary.merge(data_actions[data_actions['event']=='finished_stage_1']\n",
    "                                  .groupby('source')['event'].count().reset_index(), how='inner', on='source')\n",
    "\n",
    "data_summary.rename(columns={'event':'finished_stage_1'}, inplace=True)\n",
    "# Теперь любителей PvE\n",
    "data_summary = data_summary.merge(data_actions[data_actions['project_type'] =='satellite_orbital_assembly']\n",
    "                                  .groupby('source')['event'].count().reset_index(), how='inner', on='source')\n",
    "data_summary.rename(columns={'event':'finished_by_pve'}, inplace=True)\n",
    "# Ну и PvP\n",
    "data_summary['finished_by_pvp'] = data_summary['finished_stage_1'] - data_summary['finished_by_pve']\n",
    "data_summary"
   ]
  },
  {
   "cell_type": "markdown",
   "metadata": {},
   "source": [
    "На этом уже можно делать предварительные выводы и пилить визуализацию. Абсолютные цифры неудобны, добавлю доли \"проходимцев\". Потом порисую графики, сделаю предварительные выводы."
   ]
  },
  {
   "cell_type": "code",
   "execution_count": 26,
   "metadata": {},
   "outputs": [
    {
     "data": {
      "text/html": [
       "<div>\n",
       "<style scoped>\n",
       "    .dataframe tbody tr th:only-of-type {\n",
       "        vertical-align: middle;\n",
       "    }\n",
       "\n",
       "    .dataframe tbody tr th {\n",
       "        vertical-align: top;\n",
       "    }\n",
       "\n",
       "    .dataframe thead th {\n",
       "        text-align: right;\n",
       "    }\n",
       "</style>\n",
       "<table border=\"1\" class=\"dataframe\">\n",
       "  <thead>\n",
       "    <tr style=\"text-align: right;\">\n",
       "      <th></th>\n",
       "      <th>source</th>\n",
       "      <th>cost</th>\n",
       "      <th>users_count</th>\n",
       "      <th>cost_per_user</th>\n",
       "      <th>finished_stage_1</th>\n",
       "      <th>finished_by_pve</th>\n",
       "      <th>finished_by_pvp</th>\n",
       "      <th>share_of_finishers</th>\n",
       "      <th>share_of_pve</th>\n",
       "      <th>share_of_pvp</th>\n",
       "      <th>cost_per_finisher</th>\n",
       "    </tr>\n",
       "  </thead>\n",
       "  <tbody>\n",
       "    <tr>\n",
       "      <th>0</th>\n",
       "      <td>facebook_ads</td>\n",
       "      <td>2140.904643</td>\n",
       "      <td>2726</td>\n",
       "      <td>0.79</td>\n",
       "      <td>1150</td>\n",
       "      <td>391</td>\n",
       "      <td>759</td>\n",
       "      <td>0.42</td>\n",
       "      <td>0.34</td>\n",
       "      <td>0.66</td>\n",
       "      <td>1.86</td>\n",
       "    </tr>\n",
       "    <tr>\n",
       "      <th>1</th>\n",
       "      <td>instagram_new_adverts</td>\n",
       "      <td>2161.441691</td>\n",
       "      <td>3347</td>\n",
       "      <td>0.65</td>\n",
       "      <td>1466</td>\n",
       "      <td>476</td>\n",
       "      <td>990</td>\n",
       "      <td>0.44</td>\n",
       "      <td>0.32</td>\n",
       "      <td>0.68</td>\n",
       "      <td>1.47</td>\n",
       "    </tr>\n",
       "    <tr>\n",
       "      <th>2</th>\n",
       "      <td>yandex_direct</td>\n",
       "      <td>2233.111449</td>\n",
       "      <td>4817</td>\n",
       "      <td>0.46</td>\n",
       "      <td>2042</td>\n",
       "      <td>620</td>\n",
       "      <td>1422</td>\n",
       "      <td>0.42</td>\n",
       "      <td>0.30</td>\n",
       "      <td>0.70</td>\n",
       "      <td>1.09</td>\n",
       "    </tr>\n",
       "    <tr>\n",
       "      <th>3</th>\n",
       "      <td>youtube_channel_reklama</td>\n",
       "      <td>1068.119204</td>\n",
       "      <td>2686</td>\n",
       "      <td>0.40</td>\n",
       "      <td>1159</td>\n",
       "      <td>379</td>\n",
       "      <td>780</td>\n",
       "      <td>0.43</td>\n",
       "      <td>0.33</td>\n",
       "      <td>0.67</td>\n",
       "      <td>0.92</td>\n",
       "    </tr>\n",
       "  </tbody>\n",
       "</table>\n",
       "</div>"
      ],
      "text/plain": [
       "                    source         cost  users_count  cost_per_user  \\\n",
       "0             facebook_ads  2140.904643         2726           0.79   \n",
       "1    instagram_new_adverts  2161.441691         3347           0.65   \n",
       "2            yandex_direct  2233.111449         4817           0.46   \n",
       "3  youtube_channel_reklama  1068.119204         2686           0.40   \n",
       "\n",
       "   finished_stage_1  finished_by_pve  finished_by_pvp  share_of_finishers  \\\n",
       "0              1150              391              759                0.42   \n",
       "1              1466              476              990                0.44   \n",
       "2              2042              620             1422                0.42   \n",
       "3              1159              379              780                0.43   \n",
       "\n",
       "   share_of_pve  share_of_pvp  cost_per_finisher  \n",
       "0          0.34          0.66               1.86  \n",
       "1          0.32          0.68               1.47  \n",
       "2          0.30          0.70               1.09  \n",
       "3          0.33          0.67               0.92  "
      ]
     },
     "execution_count": 26,
     "metadata": {},
     "output_type": "execute_result"
    }
   ],
   "source": [
    "data_summary['share_of_finishers'] = round(data_summary['finished_stage_1'] / data_summary['users_count'], 2)\n",
    "data_summary['share_of_pve'] = round(data_summary['finished_by_pve'] / data_summary['finished_stage_1'], 2)\n",
    "data_summary['share_of_pvp'] = round(data_summary['finished_by_pvp'] /data_summary['finished_stage_1'], 2)\n",
    "data_summary['cost_per_finisher'] = round(data_summary['cost'] / data_summary['finished_stage_1'], 2)\n",
    "data_summary"
   ]
  },
  {
   "cell_type": "code",
   "execution_count": 27,
   "metadata": {},
   "outputs": [
    {
     "data": {
      "image/png": "[encoded data removed]",
      "text/plain": [
       "<Figure size 432x288 with 1 Axes>"
      ]
     },
     "metadata": {
      "needs_background": "light"
     },
     "output_type": "display_data"
    }
   ],
   "source": [
    "plt.bar(['Facebook', 'Instagram', 'Yandex', 'Youtube'], data_summary['cost_per_finisher'], color = ['blue', 'purple', 'yellow', 'red'])\n",
    "plt.title('Стоимость привлечения игрока, прошедшего 1 уровень')\n",
    "plt.xlabel('Источник привлечения')\n",
    "plt.ylabel('Стоимость одного пользователя в у.е.')\n",
    "plt.show()"
   ]
  },
  {
   "cell_type": "markdown",
   "metadata": {},
   "source": [
    "Ох уж эти сгенерированные данные. Исходная таблица неудобна для конечного пользователя, но из неё уже можно делать вывод о качестве каналов. Доля прошедших уровень среди источников почти одинаковая, доля пве и пвп среди прощедших тоже схожа, но значительная разница в цене привлечения. Один победитель с ютуба стоит в 2 раза дешевле аналогичного с фейсбука. Мы уже можем проранжировать их по цене. Нарисовал для этого гистограмму выше. \n",
    "\n",
    "Следующий этап перед окончательными выводами - данные, как они себя ведут до победы. Наша ожидаемая монетизация - реклама при постройке. Если фейсбучные воины строят в 10 раз чаще ютуба, то эффективность каналов для нас резко поменяется. Значит необходимо оценить, сколько строят те, кто прошел уровень.  "
   ]
  },
  {
   "cell_type": "code",
   "execution_count": 28,
   "metadata": {},
   "outputs": [
    {
     "data": {
      "text/plain": [
       "source\n",
       "facebook_ads               11\n",
       "instagram_new_adverts      11\n",
       "yandex_direct              11\n",
       "youtube_channel_reklama    11\n",
       "Name: event, dtype: int64"
      ]
     },
     "execution_count": 28,
     "metadata": {},
     "output_type": "execute_result"
    }
   ],
   "source": [
    "# Сначала добавим в data_actions столбец с признаком, закончил ли 1 уровень конкретный пользователь\n",
    "# Сначала формирую список таких победителей\n",
    "finishers_list = data_actions[data_actions['event']=='finished_stage_1']['user_id'].tolist()\n",
    "# Теперь заполняю новый столбец\n",
    "data_actions['finished_1_stage'] = np.where(data_actions['user_id'].isin(finishers_list), True, False)\n",
    "# И узнаю, как эти люди строят\n",
    "data_temp = data_actions[(data_actions['finished_1_stage'] == True) & (data_actions['event'] == 'building')]\n",
    "data_temp = data_temp.groupby(['source', 'user_id'])['event'].count().reset_index()\n",
    "# Считаю медиану\n",
    "data_temp.groupby('source')['event'].median()\n",
    "# Начинаю подозревать, что где-то накосячил, потому что она у всех одинаковая. Код на глаз верный, \n",
    "# я повторил вычисления в Excel и они сошлись. "
   ]
  },
  {
   "cell_type": "markdown",
   "metadata": {},
   "source": [
    "Удивительное единство. Возможно внутренние механики игры или первый уровень не дает простора для творчества и к победе игрок идет 1 возможным вариантом, отсюда одинаковые медианы. Проверю как строят pve и pvp игроки."
   ]
  },
  {
   "cell_type": "code",
   "execution_count": 29,
   "metadata": {},
   "outputs": [
    {
     "name": "stderr",
     "output_type": "stream",
     "text": [
      "/tmp/ipykernel_63/1387655614.py:4: SettingWithCopyWarning: \n",
      "A value is trying to be set on a copy of a slice from a DataFrame.\n",
      "Try using .loc[row_indexer,col_indexer] = value instead\n",
      "\n",
      "See the caveats in the documentation: https://pandas.pydata.org/pandas-docs/stable/user_guide/indexing.html#returning-a-view-versus-a-copy\n",
      "  data_temp['kind_of_victory']  = np.where(data_temp['user_id'].isin(satellite_lovers_list), 'pve', 'pvp')\n"
     ]
    },
    {
     "data": {
      "text/html": [
       "<div>\n",
       "<style scoped>\n",
       "    .dataframe tbody tr th:only-of-type {\n",
       "        vertical-align: middle;\n",
       "    }\n",
       "\n",
       "    .dataframe tbody tr th {\n",
       "        vertical-align: top;\n",
       "    }\n",
       "\n",
       "    .dataframe thead th {\n",
       "        text-align: right;\n",
       "    }\n",
       "</style>\n",
       "<table border=\"1\" class=\"dataframe\">\n",
       "  <thead>\n",
       "    <tr style=\"text-align: right;\">\n",
       "      <th>kind_of_victory</th>\n",
       "      <th>source</th>\n",
       "      <th>pve</th>\n",
       "      <th>pvp</th>\n",
       "    </tr>\n",
       "  </thead>\n",
       "  <tbody>\n",
       "    <tr>\n",
       "      <th>0</th>\n",
       "      <td>facebook_ads</td>\n",
       "      <td>12</td>\n",
       "      <td>10</td>\n",
       "    </tr>\n",
       "    <tr>\n",
       "      <th>1</th>\n",
       "      <td>instagram_new_adverts</td>\n",
       "      <td>12</td>\n",
       "      <td>10</td>\n",
       "    </tr>\n",
       "    <tr>\n",
       "      <th>2</th>\n",
       "      <td>yandex_direct</td>\n",
       "      <td>12</td>\n",
       "      <td>10</td>\n",
       "    </tr>\n",
       "    <tr>\n",
       "      <th>3</th>\n",
       "      <td>youtube_channel_reklama</td>\n",
       "      <td>12</td>\n",
       "      <td>10</td>\n",
       "    </tr>\n",
       "  </tbody>\n",
       "</table>\n",
       "</div>"
      ],
      "text/plain": [
       "kind_of_victory                   source  pve  pvp\n",
       "0                           facebook_ads   12   10\n",
       "1                  instagram_new_adverts   12   10\n",
       "2                          yandex_direct   12   10\n",
       "3                youtube_channel_reklama   12   10"
      ]
     },
     "execution_count": 29,
     "metadata": {},
     "output_type": "execute_result"
    }
   ],
   "source": [
    "# Снова добавляю новый столбец. Можно было сделать разделение в одном, но неизвестно, что потом будет с игрой и данными.\n",
    "# Поскольку датасеты небольшие, пусть будет еще столбец.\n",
    "data_temp = data_actions[(data_actions['finished_1_stage'] == True) & (data_actions['event'] == 'building')]\n",
    "data_temp['kind_of_victory']  = np.where(data_temp['user_id'].isin(satellite_lovers_list), 'pve', 'pvp')\n",
    "data_temp = data_temp.groupby(['source', 'user_id', 'kind_of_victory'])['event'].count().reset_index()\n",
    "data_temp = pd.pivot_table(data_temp, values='event', index='source', columns='kind_of_victory', aggfunc='median').reset_index()\n",
    "data_temp"
   ]
  },
  {
   "cell_type": "markdown",
   "metadata": {},
   "source": [
    "Первый уровень, как правило, обучающий. Скорее всего это и объясняет сходство медиан. ПвЕ игроки видят экран строительства на 20% чаще, что для монетизации достаточно большое преимущество."
   ]
  },
  {
   "cell_type": "markdown",
   "metadata": {},
   "source": [
    "### Вывод из анализа поведения и источников"
   ]
  },
  {
   "cell_type": "code",
   "execution_count": 30,
   "metadata": {},
   "outputs": [
    {
     "data": {
      "image/png": "[encoded data removed]",
      "text/plain": [
       "<Figure size 1224x360 with 3 Axes>"
      ]
     },
     "metadata": {
      "needs_background": "light"
     },
     "output_type": "display_data"
    }
   ],
   "source": [
    "# Нарисую график для сопоставления долей пользователей\n",
    "plt.figure(figsize=(17, 5))\n",
    "\n",
    "plt.subplot(1, 3, 1)\n",
    "plt.bar(['Facebook', 'Instagram', 'Yandex', 'Youtube'], data_summary['share_of_finishers']*100, color = ['blue', 'purple', 'yellow', 'red'],\n",
    "                   edgecolor='black')\n",
    "plt.title('Доля игроков, завершивших 1 уровень')\n",
    "plt.xlabel('Источник привлечения')\n",
    "plt.ylabel('Доля в %')\n",
    "\n",
    "plt.subplot(1, 3, 2)\n",
    "plt.bar(['Facebook', 'Instagram', 'Yandex', 'Youtube'], data_summary['share_of_pve']*100, color = ['blue', 'purple', 'yellow', 'red'],\n",
    "                   edgecolor='black')\n",
    "plt.title('Доля игроков, завершивших 1 уровень через PVE')\n",
    "plt.xlabel('Источник привлечения')\n",
    "plt.ylabel('Доля в %')\n",
    "\n",
    "plt.subplot(1, 3, 3)\n",
    "plt.bar(['Facebook', 'Instagram', 'Yandex', 'Youtube'], data_summary['share_of_pvp']*100, color = ['blue', 'purple', 'yellow', 'red'],\n",
    "                   edgecolor='black')\n",
    "plt.title('Доля игроков, завершивших 1 уровень через PVP')\n",
    "plt.xlabel('Источник привлечения')\n",
    "plt.ylabel('Доля в %')\n",
    "\n",
    "plt.show()"
   ]
  },
  {
   "cell_type": "code",
   "execution_count": 31,
   "metadata": {},
   "outputs": [
    {
     "data": {
      "image/png": "[encoded data removed]",
      "text/plain": [
       "<Figure size 432x288 with 1 Axes>"
      ]
     },
     "metadata": {
      "needs_background": "light"
     },
     "output_type": "display_data"
    }
   ],
   "source": [
    "plt.bar(['Facebook', 'Instagram', 'Yandex', 'Youtube'], data_summary['cost_per_finisher'], color = ['blue', 'purple', 'yellow', 'red'])\n",
    "plt.title('Стоимость привлечения игрока, прощедшего 1 уровень')\n",
    "plt.xlabel('Источник привлечения')\n",
    "plt.ylabel('Стоимость одного пользователя в у.е.')\n",
    "plt.show()"
   ]
  },
  {
   "cell_type": "markdown",
   "metadata": {},
   "source": [
    "<b>Вывод</b>\n",
    "- Поведение пользователей схоже для каждого источника. Во всех случаях 40% игроков проходят первый уровень. 70% из них побеждают через PVP, 30%  - через PVE. У Facebook и Youtube на 3% больше PVE игроков по сравнению с другими.\n",
    "- С учетом одинаковости поведения пользователей ключевой становится цена привлечения. Youtube является наиболее дешевым источником привлечения (разница цен на гистограмме выше).\n",
    "\n",
    "<b>Итоговое ранжирование источников по убыванию эффевтивности:</b>\n",
    "1) Youtube - наиболее дешевый источник пользователей (0.92 у.е. за \"прошедшего\" пользователя)\n",
    "\n",
    "2) Yandex - на 20% дороже Youtube, но аналогичное качество пользователя (1.09 у.е. за \"прошедшего\" пользователя). Можно использовать как второй или запасной канал привлечения.\n",
    "\n",
    "3) Facebook и Instagram низкоэффективны - цена значительно выше других каналов (1.86 и 1.46 у.е. за за \"прошедшего\" пользователя). Без снижения цены не рекомендуется привлекать трафик. Исключение, если нам важно максимально быстро набрать базу пользователей.\n",
    "\n",
    "<b>Прочие рекомендации:</b>\n",
    "В случае монетизации через экран постройки PvE пользователи будут видеть рекламу на 20% чаще. За первый уровень такие игроки строят, как правило, 12 построек, а PVP-игроки - 10, но их доля в 2 раза меньше PVP игроков. Возможно стоит перебалансировать экономику, чтобы для войны требовалось большее количество зданий"
   ]
  },
  {
   "cell_type": "markdown",
   "metadata": {},
   "source": [
    "## Проверка статистических гипотез"
   ]
  },
  {
   "cell_type": "markdown",
   "metadata": {},
   "source": [
    "### Проверка гипотезы: \"время завершения уровня различается в зависимости от способа прохождения:\n",
    "    - через реализацию проекта,\n",
    "    - через победу над первым игроком.\""
   ]
  },
  {
   "cell_type": "code",
   "execution_count": 32,
   "metadata": {},
   "outputs": [
    {
     "name": "stderr",
     "output_type": "stream",
     "text": [
      "/tmp/ipykernel_63/1324796619.py:6: SettingWithCopyWarning: \n",
      "A value is trying to be set on a copy of a slice from a DataFrame.\n",
      "Try using .loc[row_indexer,col_indexer] = value instead\n",
      "\n",
      "See the caveats in the documentation: https://pandas.pydata.org/pandas-docs/stable/user_guide/indexing.html#returning-a-view-versus-a-copy\n",
      "  data_temp['kind_of_victory']  = np.where(data_temp['user_id'].isin(satellite_lovers_list), 'pve', 'pvp')\n",
      "/tmp/ipykernel_63/1324796619.py:16: SettingWithCopyWarning: \n",
      "A value is trying to be set on a copy of a slice from a DataFrame.\n",
      "Try using .loc[row_indexer,col_indexer] = value instead\n",
      "\n",
      "See the caveats in the documentation: https://pandas.pydata.org/pandas-docs/stable/user_guide/indexing.html#returning-a-view-versus-a-copy\n",
      "  data_pve['delta'] = round((data_pve['delta'].astype(int) / 60000000000 / 60 / 24) ,1)\n",
      "/tmp/ipykernel_63/1324796619.py:17: SettingWithCopyWarning: \n",
      "A value is trying to be set on a copy of a slice from a DataFrame.\n",
      "Try using .loc[row_indexer,col_indexer] = value instead\n",
      "\n",
      "See the caveats in the documentation: https://pandas.pydata.org/pandas-docs/stable/user_guide/indexing.html#returning-a-view-versus-a-copy\n",
      "  data_pvp['delta'] = round((data_pvp['delta'].astype(int) / 60000000000 / 60 / 24), 1)\n"
     ]
    }
   ],
   "source": [
    "# Сначала подготовим данные\n",
    "# В питоне должны быть аналоги оконных функций, чтобы сделать это удобнее, но навелосипедил немного...\n",
    "\n",
    "# Заново определяем тип победы\n",
    "data_temp = data_actions[data_actions['finished_1_stage'] == True]\n",
    "data_temp['kind_of_victory']  = np.where(data_temp['user_id'].isin(satellite_lovers_list), 'pve', 'pvp')\n",
    "data_temp = data_temp[data_temp['kind_of_victory'] != 'nan']\n",
    "# Считаем разницу во времени\n",
    "data_temp_1 = data_temp.groupby('user_id')['event_datetime'].max().reset_index()\n",
    "data_temp_1['delta'] = data_temp_1['event_datetime'] - data_temp.groupby('user_id')['event_datetime'].min().reset_index()['event_datetime']\n",
    "data_temp = data_temp.merge(data_temp_1[['user_id', 'delta']], on='user_id')\n",
    "# Получаем два набора данных для проверки гипотезы\n",
    "data_pve = data_temp[data_temp['kind_of_victory']=='pve']\n",
    "data_pvp = data_temp[data_temp['kind_of_victory']=='pvp']\n",
    "# Переводим дельту в дни. Делю несколько раз, чтобы в случае масштабирования просто убрать / добавить нужный разрез времени\n",
    "data_pve['delta'] = round((data_pve['delta'].astype(int) / 60000000000 / 60 / 24) ,1)\n",
    "data_pvp['delta'] = round((data_pvp['delta'].astype(int) / 60000000000 / 60 / 24), 1)\n",
    "\n",
    "\n",
    "# Строки ниже добавлены после первой проверки тимлидом\n",
    "\n",
    "\n",
    "# Избавляюсь от дубликатов\n",
    "data_pve = data_pve[['user_id', 'delta']]\n",
    "data_pve.drop_duplicates(inplace=True)\n",
    "\n",
    "data_pvp = data_pvp[['user_id', 'delta']]\n",
    "data_pvp.drop_duplicates(inplace=True)"
   ]
  },
  {
   "cell_type": "markdown",
   "metadata": {},
   "source": [
    "Данные готовы. Проверяем гипотезу, что время завершения уровня одинаковое вне зависимости от способа прохождения. "
   ]
  },
  {
   "cell_type": "code",
   "execution_count": 33,
   "metadata": {},
   "outputs": [
    {
     "name": "stdout",
     "output_type": "stream",
     "text": [
      "1866 3951\n"
     ]
    }
   ],
   "source": [
    "print(len(data_pve['delta']), len(data_pvp['delta']))"
   ]
  },
  {
   "cell_type": "code",
   "execution_count": 34,
   "metadata": {},
   "outputs": [
    {
     "name": "stdout",
     "output_type": "stream",
     "text": [
      "среднее время прохождение PVE 13.5\n",
      "среднее время прохождение PVP 11.1\n",
      "p-значение: 6.847878967842132e-107\n",
      "Отвергаем нулевую гипотезу\n"
     ]
    }
   ],
   "source": [
    "# Задаем критический уровень статистической значимости\n",
    "alpha = .05 \n",
    "\n",
    "results = st.ttest_ind(\n",
    "    data_pve['delta'], \n",
    "    data_pvp['delta'], equal_var = False)\n",
    "\n",
    "# Выводим средние и p\n",
    "print('среднее время прохождение PVE', round(data_pve['delta'].mean(),1))\n",
    "print('среднее время прохождение PVP', round(data_pvp['delta'].mean(),1))\n",
    "print('p-значение:', results.pvalue)\n",
    "\n",
    "if results.pvalue < alpha:\n",
    "    print(\"Отвергаем нулевую гипотезу\")\n",
    "else:\n",
    "    print(\"Не получилось отвергнуть нулевую гипотезу\") "
   ]
  },
  {
   "cell_type": "markdown",
   "metadata": {},
   "source": [
    "С таким P-value нулевая гипотеза покинула горизонт событий. PVE игрок дольше проходит уровень, отсюда и большее количество зданий (12 против 10 у PVP). Теперь првоерим собственную гипотезу. Продолжим изучать поведение. Кроме зданий, у нас есть экран исследований (должен же игрок тапать проекты где-то). Они тоже могут стать источником монетизации (купи 10 учёных в нашем магазине и ускорь получение спутников!). А PVP игроки могут искать там усиление своих войск. Поэтому проверим, востребован ли сейчас центр исследований всеми типами игроков. Гипотезой будет: \"и pvp, и pve игроки строят исследовательский центр одинаково часто\"."
   ]
  },
  {
   "cell_type": "code",
   "execution_count": 35,
   "metadata": {},
   "outputs": [],
   "source": [
    "# Восстанавливаем датафреймы для второй гипотезы\n",
    "data_pve = data_temp[data_temp['kind_of_victory']=='pve']\n",
    "data_pvp = data_temp[data_temp['kind_of_victory']=='pvp']"
   ]
  },
  {
   "cell_type": "code",
   "execution_count": 37,
   "metadata": {},
   "outputs": [],
   "source": [
    "# формируем pvp игроков с нулями лабораторий\n",
    "data_temp = data_pvp['user_id']\n",
    "data_temp.drop_duplicates(inplace=True)\n",
    "data_pvp = data_pvp[data_pvp['building_type'] == 'research_center'].groupby('user_id')['event'].count().reset_index()\n",
    "data_pvp = data_pvp.merge(data_temp.to_frame(), how='outer', on='user_id')\n",
    "data_pvp = data_pvp.fillna(0)"
   ]
  },
  {
   "cell_type": "code",
   "execution_count": 38,
   "metadata": {},
   "outputs": [
    {
     "name": "stdout",
     "output_type": "stream",
     "text": [
      "среднее количество центров у PVE игроков 2.0\n",
      "среднее количество центров у PVP игроков 1.0\n",
      "p-значение: 1.429625689403116e-265\n",
      "Отвергаем нулевую гипотезу\n"
     ]
    }
   ],
   "source": [
    "# Задаем критический уровень статистической значимости\n",
    "alpha = .05 \n",
    "\n",
    "# Отправляем в тест количество построенных научных центров\n",
    "results = st.ttest_ind(\n",
    "    data_pve[data_pve['building_type'] == 'research_center'].groupby('user_id')['event'].count().reset_index()['event'], \n",
    "    data_pvp['event'],\n",
    "    equal_var = False)\n",
    "\n",
    "# Выводим средние и p\n",
    "print('среднее количество центров у PVE игроков', round(data_pve[data_pve['building_type'] == 'research_center'].groupby('user_id')['event'].count().reset_index()['event'].mean(),1))\n",
    "print('среднее количество центров у PVP игроков', round(data_pvp['event'].mean(),1))\n",
    "print('p-значение:', results.pvalue)\n",
    "\n",
    "if results.pvalue < alpha:\n",
    "    print(\"Отвергаем нулевую гипотезу\")\n",
    "else:\n",
    "    print(\"Не получилось отвергнуть нулевую гипотезу\") "
   ]
  },
  {
   "cell_type": "markdown",
   "metadata": {},
   "source": [
    "Ожидаемый результат. Наука не так востребована при PvP. "
   ]
  },
  {
   "cell_type": "markdown",
   "metadata": {},
   "source": [
    "## Офомрление результатов и выводов:\n",
    "<b>Вывод</b>\n",
    "- Поведение пользователей схоже для каждого источника. Во всех случаях 40% игроков проходят первый уровень. 70% из них побеждают через PVP, 30%  - через PVE. У Facebook и Youtube на 3% больше PVE игроков по сравнению с другими.\n",
    "- С учетом одинаковости поведения пользователей ключевой становится цена привлечения. Youtube является наиболее дешевым источником привлечения (разница цен на гистограмме выше).\n",
    "\n",
    "<b>Итоговое ранжирование источников по убыванию эффевтивности:</b>\n",
    "1) Youtube - наиболее дешевый источник пользователей (0.92 у.е. за \"прошедшего\" пользователя)\n",
    "\n",
    "2) Yandex - на 20% дороже Youtube, но аналогичное качество пользователя (1.09 у.е. за \"прошедшего\" пользователя). Можно использовать как второй или запасной канал привлечения.\n",
    "\n",
    "3) Facebook и Instagram низкоэффективны - цена значительно выше других каналов (1.86 и 1.46 у.е. за за \"прошедшего\" пользователя). Без снижения цены не рекомендуется привлекать трафик. Исключение, если нам важно максимально быстро набрать базу пользователей.\n",
    "\n",
    "<b>Проверка гипотез</b>\n",
    "1) Гипотеза, что время завершения первого уровня одинаковое для PVP и PVE отвергнута. PVE игрокам требуется больше времени на прохождение. В среднем еще 2 дня (11,7 дней для PVP, 13,5 для PVE)\n",
    "\n",
    "2) Гипотеза об одинаковой частоте постройки исследовательского центра PVP и PVE игроками тоже отвергнута. PVP строят его реже.\n",
    "\n",
    "<b>Прочие рекомендации:</b>\n",
    "В случае монетизации через экран постройки PvE пользователи будут видеть рекламу на 20% чаще. За первый уровень такие игроки строят, как правило, 12 построек, а PVP-игроки - 10, но их доля в 2 раза меньше PVP игроков. Возможно стоит перебалансировать экономику, чтобы для войны требовалось большее количество зданий\n",
    "\n",
    "### Подготовка презентации с выводами и результатами работы\n",
    "Ссылка на презентацию https://drive.google.com/file/d/1pvy6kpwb1kHR8vKthwrwiT3b169zFRzJ/view?usp=sharing\n",
    "\n",
    "### Подготовка дашборда с визуализацией результатов\n",
    "Ссылка на дашборд https://public.tableau.com/app/profile/roman1471/viz/-_16579658447160/Dashboard1?publish=yes"
   ]
  }
 ],
 "metadata": {
  "ExecuteTimeLog": [
   {
    "duration": 359,
    "start_time": "2022-07-13T06:20:17.058Z"
   },
   {
    "duration": 62,
    "start_time": "2022-07-13T06:21:44.639Z"
   },
   {
    "duration": 905,
    "start_time": "2022-07-13T06:21:54.130Z"
   },
   {
    "duration": 32,
    "start_time": "2022-07-13T06:22:33.103Z"
   },
   {
    "duration": 19,
    "start_time": "2022-07-13T06:23:42.940Z"
   },
   {
    "duration": 73,
    "start_time": "2022-07-13T06:27:39.083Z"
   },
   {
    "duration": 9,
    "start_time": "2022-07-13T06:28:14.707Z"
   },
   {
    "duration": 82,
    "start_time": "2022-07-13T06:28:20.966Z"
   },
   {
    "duration": 28,
    "start_time": "2022-07-13T06:31:59.132Z"
   },
   {
    "duration": 36,
    "start_time": "2022-07-13T06:34:15.577Z"
   },
   {
    "duration": 58,
    "start_time": "2022-07-13T06:34:20.791Z"
   },
   {
    "duration": 40,
    "start_time": "2022-07-13T06:34:25.482Z"
   },
   {
    "duration": 100,
    "start_time": "2022-07-13T06:36:22.656Z"
   },
   {
    "duration": 117,
    "start_time": "2022-07-13T06:39:18.101Z"
   },
   {
    "duration": 10,
    "start_time": "2022-07-13T06:40:24.873Z"
   },
   {
    "duration": 13,
    "start_time": "2022-07-13T06:40:35.441Z"
   },
   {
    "duration": 3,
    "start_time": "2022-07-13T06:43:32.318Z"
   },
   {
    "duration": 12,
    "start_time": "2022-07-13T06:44:36.872Z"
   },
   {
    "duration": 12,
    "start_time": "2022-07-13T06:44:41.368Z"
   },
   {
    "duration": 12,
    "start_time": "2022-07-13T06:44:43.931Z"
   },
   {
    "duration": 9,
    "start_time": "2022-07-13T06:46:29.922Z"
   },
   {
    "duration": 12,
    "start_time": "2022-07-13T06:46:33.392Z"
   },
   {
    "duration": 8,
    "start_time": "2022-07-13T06:47:33.768Z"
   },
   {
    "duration": 11,
    "start_time": "2022-07-13T06:47:54.132Z"
   },
   {
    "duration": 6,
    "start_time": "2022-07-13T06:48:32.503Z"
   },
   {
    "duration": 29,
    "start_time": "2022-07-13T07:34:41.551Z"
   },
   {
    "duration": 16,
    "start_time": "2022-07-13T07:35:20.593Z"
   },
   {
    "duration": 14,
    "start_time": "2022-07-13T07:35:24.507Z"
   },
   {
    "duration": 8,
    "start_time": "2022-07-13T07:35:44.982Z"
   },
   {
    "duration": 3,
    "start_time": "2022-07-13T07:36:38.755Z"
   },
   {
    "duration": 22,
    "start_time": "2022-07-13T07:36:42.397Z"
   },
   {
    "duration": 9,
    "start_time": "2022-07-13T07:37:36.398Z"
   },
   {
    "duration": 8,
    "start_time": "2022-07-13T07:37:47.372Z"
   },
   {
    "duration": 26,
    "start_time": "2022-07-13T07:38:40.503Z"
   },
   {
    "duration": 12,
    "start_time": "2022-07-13T07:38:54.581Z"
   },
   {
    "duration": 13,
    "start_time": "2022-07-13T07:58:32.087Z"
   },
   {
    "duration": 61,
    "start_time": "2022-07-13T08:01:03.604Z"
   },
   {
    "duration": 24,
    "start_time": "2022-07-13T08:01:07.537Z"
   },
   {
    "duration": 9,
    "start_time": "2022-07-13T08:01:20.193Z"
   },
   {
    "duration": 16,
    "start_time": "2022-07-13T08:03:29.384Z"
   },
   {
    "duration": 17,
    "start_time": "2022-07-13T08:06:25.982Z"
   },
   {
    "duration": 52,
    "start_time": "2022-07-13T08:09:05.595Z"
   },
   {
    "duration": 24,
    "start_time": "2022-07-13T08:09:26.097Z"
   },
   {
    "duration": 17,
    "start_time": "2022-07-13T08:11:52.473Z"
   },
   {
    "duration": 68,
    "start_time": "2022-07-13T08:12:04.560Z"
   },
   {
    "duration": 28,
    "start_time": "2022-07-13T08:12:16.610Z"
   },
   {
    "duration": 20,
    "start_time": "2022-07-13T08:15:45.925Z"
   },
   {
    "duration": 24,
    "start_time": "2022-07-13T08:15:58.672Z"
   },
   {
    "duration": 43,
    "start_time": "2022-07-13T08:19:13.002Z"
   },
   {
    "duration": 58,
    "start_time": "2022-07-13T08:21:17.862Z"
   },
   {
    "duration": 75,
    "start_time": "2022-07-13T08:21:57.460Z"
   },
   {
    "duration": 82,
    "start_time": "2022-07-13T08:22:01.371Z"
   },
   {
    "duration": 99,
    "start_time": "2022-07-13T08:22:13.375Z"
   },
   {
    "duration": 65,
    "start_time": "2022-07-13T08:22:17.127Z"
   },
   {
    "duration": 108,
    "start_time": "2022-07-13T08:25:15.659Z"
   },
   {
    "duration": 114,
    "start_time": "2022-07-13T08:49:35.927Z"
   },
   {
    "duration": 5481,
    "start_time": "2022-07-13T08:50:16.742Z"
   },
   {
    "duration": 85,
    "start_time": "2022-07-13T08:54:45.080Z"
   },
   {
    "duration": 89,
    "start_time": "2022-07-13T08:55:14.064Z"
   },
   {
    "duration": 83,
    "start_time": "2022-07-13T08:55:27.070Z"
   },
   {
    "duration": 19,
    "start_time": "2022-07-13T09:04:19.892Z"
   },
   {
    "duration": 12,
    "start_time": "2022-07-13T09:04:24.630Z"
   },
   {
    "duration": 9,
    "start_time": "2022-07-13T09:19:28.336Z"
   },
   {
    "duration": 8,
    "start_time": "2022-07-13T09:19:46.659Z"
   },
   {
    "duration": 9,
    "start_time": "2022-07-13T09:20:03.573Z"
   },
   {
    "duration": 8,
    "start_time": "2022-07-13T09:21:40.318Z"
   },
   {
    "duration": 14,
    "start_time": "2022-07-13T09:22:00.193Z"
   },
   {
    "duration": 9,
    "start_time": "2022-07-13T09:51:55.503Z"
   },
   {
    "duration": 7,
    "start_time": "2022-07-13T09:52:15.637Z"
   },
   {
    "duration": 10,
    "start_time": "2022-07-13T09:57:41.079Z"
   },
   {
    "duration": 19,
    "start_time": "2022-07-13T10:09:55.949Z"
   },
   {
    "duration": 14,
    "start_time": "2022-07-13T10:10:30.199Z"
   },
   {
    "duration": 12,
    "start_time": "2022-07-13T10:10:46.909Z"
   },
   {
    "duration": 74,
    "start_time": "2022-07-13T10:11:45.921Z"
   },
   {
    "duration": 11,
    "start_time": "2022-07-13T10:11:49.110Z"
   },
   {
    "duration": 16,
    "start_time": "2022-07-13T10:12:59.484Z"
   },
   {
    "duration": 17,
    "start_time": "2022-07-13T10:15:02.885Z"
   },
   {
    "duration": 17,
    "start_time": "2022-07-13T10:16:51.667Z"
   },
   {
    "duration": 26,
    "start_time": "2022-07-13T10:17:05.076Z"
   },
   {
    "duration": 9,
    "start_time": "2022-07-13T10:17:21.568Z"
   },
   {
    "duration": 7,
    "start_time": "2022-07-13T10:17:49.285Z"
   },
   {
    "duration": 20,
    "start_time": "2022-07-13T10:19:29.365Z"
   },
   {
    "duration": 22,
    "start_time": "2022-07-13T10:20:01.713Z"
   },
   {
    "duration": 20,
    "start_time": "2022-07-13T10:20:33.765Z"
   },
   {
    "duration": 14,
    "start_time": "2022-07-13T13:24:13.938Z"
   },
   {
    "duration": 9,
    "start_time": "2022-07-13T13:25:06.459Z"
   },
   {
    "duration": 9,
    "start_time": "2022-07-13T13:25:28.860Z"
   },
   {
    "duration": 15,
    "start_time": "2022-07-13T13:26:55.283Z"
   },
   {
    "duration": 125,
    "start_time": "2022-07-13T13:28:05.878Z"
   },
   {
    "duration": 72,
    "start_time": "2022-07-13T13:28:13.119Z"
   },
   {
    "duration": 96,
    "start_time": "2022-07-13T13:30:41.420Z"
   },
   {
    "duration": 62,
    "start_time": "2022-07-13T13:30:48.761Z"
   },
   {
    "duration": 45,
    "start_time": "2022-07-13T13:31:04.444Z"
   },
   {
    "duration": 413,
    "start_time": "2022-07-13T13:31:09.120Z"
   },
   {
    "duration": 327,
    "start_time": "2022-07-13T13:31:09.535Z"
   },
   {
    "duration": 46,
    "start_time": "2022-07-13T13:31:09.865Z"
   },
   {
    "duration": 20,
    "start_time": "2022-07-13T13:31:09.920Z"
   },
   {
    "duration": 116,
    "start_time": "2022-07-13T13:31:09.942Z"
   },
   {
    "duration": 165,
    "start_time": "2022-07-13T13:31:10.059Z"
   },
   {
    "duration": 14,
    "start_time": "2022-07-13T13:31:10.228Z"
   },
   {
    "duration": 17,
    "start_time": "2022-07-13T13:31:10.245Z"
   },
   {
    "duration": 19,
    "start_time": "2022-07-13T13:31:10.265Z"
   },
   {
    "duration": 19,
    "start_time": "2022-07-13T13:31:10.305Z"
   },
   {
    "duration": 18,
    "start_time": "2022-07-13T13:31:10.326Z"
   },
   {
    "duration": 16,
    "start_time": "2022-07-13T13:31:10.346Z"
   },
   {
    "duration": 16,
    "start_time": "2022-07-13T13:31:10.364Z"
   },
   {
    "duration": 8,
    "start_time": "2022-07-13T13:31:10.403Z"
   },
   {
    "duration": 116,
    "start_time": "2022-07-13T13:31:10.413Z"
   },
   {
    "duration": 10,
    "start_time": "2022-07-13T13:31:10.532Z"
   },
   {
    "duration": 34,
    "start_time": "2022-07-13T13:31:10.545Z"
   },
   {
    "duration": 78,
    "start_time": "2022-07-13T13:31:10.604Z"
   },
   {
    "duration": 39,
    "start_time": "2022-07-13T13:31:10.684Z"
   },
   {
    "duration": 43,
    "start_time": "2022-07-13T13:31:21.935Z"
   },
   {
    "duration": 14,
    "start_time": "2022-07-13T13:31:48.298Z"
   },
   {
    "duration": 16,
    "start_time": "2022-07-13T13:37:37.812Z"
   },
   {
    "duration": 138,
    "start_time": "2022-07-13T13:38:50.400Z"
   },
   {
    "duration": 45,
    "start_time": "2022-07-13T13:39:12.897Z"
   },
   {
    "duration": 17,
    "start_time": "2022-07-13T13:39:29.559Z"
   },
   {
    "duration": 48,
    "start_time": "2022-07-13T13:40:57.191Z"
   },
   {
    "duration": 19,
    "start_time": "2022-07-13T13:43:25.046Z"
   },
   {
    "duration": 16,
    "start_time": "2022-07-13T13:45:04.060Z"
   },
   {
    "duration": 15,
    "start_time": "2022-07-13T13:45:27.321Z"
   },
   {
    "duration": 15,
    "start_time": "2022-07-13T13:45:33.258Z"
   },
   {
    "duration": 15,
    "start_time": "2022-07-13T13:45:51.447Z"
   },
   {
    "duration": 49,
    "start_time": "2022-07-13T13:46:02.218Z"
   },
   {
    "duration": 22,
    "start_time": "2022-07-13T13:46:14.945Z"
   },
   {
    "duration": 1359,
    "start_time": "2022-07-13T13:46:48.743Z"
   },
   {
    "duration": 7,
    "start_time": "2022-07-13T13:46:58.838Z"
   },
   {
    "duration": 6,
    "start_time": "2022-07-13T13:47:27.134Z"
   },
   {
    "duration": 7,
    "start_time": "2022-07-13T13:47:37.773Z"
   },
   {
    "duration": 21,
    "start_time": "2022-07-13T13:50:12.839Z"
   },
   {
    "duration": 20,
    "start_time": "2022-07-13T13:52:33.901Z"
   },
   {
    "duration": 11,
    "start_time": "2022-07-13T13:54:40.818Z"
   },
   {
    "duration": 18,
    "start_time": "2022-07-13T13:55:39.859Z"
   },
   {
    "duration": 16,
    "start_time": "2022-07-13T13:59:43.762Z"
   },
   {
    "duration": 18,
    "start_time": "2022-07-13T13:59:54.353Z"
   },
   {
    "duration": 28,
    "start_time": "2022-07-13T14:01:13.713Z"
   },
   {
    "duration": 25,
    "start_time": "2022-07-13T14:02:20.115Z"
   },
   {
    "duration": 9,
    "start_time": "2022-07-13T14:04:23.069Z"
   },
   {
    "duration": 7,
    "start_time": "2022-07-13T14:05:03.565Z"
   },
   {
    "duration": 31,
    "start_time": "2022-07-13T14:05:06.602Z"
   },
   {
    "duration": 37,
    "start_time": "2022-07-13T14:06:05.218Z"
   },
   {
    "duration": 424,
    "start_time": "2022-07-13T14:08:54.493Z"
   },
   {
    "duration": 283,
    "start_time": "2022-07-13T14:08:54.919Z"
   },
   {
    "duration": 39,
    "start_time": "2022-07-13T14:08:55.204Z"
   },
   {
    "duration": 19,
    "start_time": "2022-07-13T14:08:55.245Z"
   },
   {
    "duration": 120,
    "start_time": "2022-07-13T14:08:55.266Z"
   },
   {
    "duration": 161,
    "start_time": "2022-07-13T14:08:55.388Z"
   },
   {
    "duration": 13,
    "start_time": "2022-07-13T14:08:55.551Z"
   },
   {
    "duration": 10,
    "start_time": "2022-07-13T14:08:55.566Z"
   },
   {
    "duration": 40,
    "start_time": "2022-07-13T14:08:55.578Z"
   },
   {
    "duration": 15,
    "start_time": "2022-07-13T14:08:55.620Z"
   },
   {
    "duration": 28,
    "start_time": "2022-07-13T14:08:55.637Z"
   },
   {
    "duration": 11,
    "start_time": "2022-07-13T14:08:55.667Z"
   },
   {
    "duration": 29,
    "start_time": "2022-07-13T14:08:55.680Z"
   },
   {
    "duration": 8,
    "start_time": "2022-07-13T14:08:55.712Z"
   },
   {
    "duration": 113,
    "start_time": "2022-07-13T14:08:55.721Z"
   },
   {
    "duration": 7,
    "start_time": "2022-07-13T14:08:55.836Z"
   },
   {
    "duration": 21,
    "start_time": "2022-07-13T14:08:55.845Z"
   },
   {
    "duration": 82,
    "start_time": "2022-07-13T14:08:55.867Z"
   },
   {
    "duration": 57,
    "start_time": "2022-07-13T14:08:55.951Z"
   },
   {
    "duration": 18,
    "start_time": "2022-07-13T14:08:56.009Z"
   },
   {
    "duration": 22,
    "start_time": "2022-07-13T14:08:56.029Z"
   },
   {
    "duration": 72,
    "start_time": "2022-07-13T14:08:56.054Z"
   },
   {
    "duration": 24,
    "start_time": "2022-07-13T14:08:56.128Z"
   },
   {
    "duration": 23,
    "start_time": "2022-07-13T14:08:56.154Z"
   },
   {
    "duration": 24,
    "start_time": "2022-07-13T15:17:30.914Z"
   },
   {
    "duration": 475,
    "start_time": "2022-07-13T15:18:04.158Z"
   },
   {
    "duration": 336,
    "start_time": "2022-07-13T15:18:04.635Z"
   },
   {
    "duration": 40,
    "start_time": "2022-07-13T15:18:04.975Z"
   },
   {
    "duration": 36,
    "start_time": "2022-07-13T15:18:05.017Z"
   },
   {
    "duration": 116,
    "start_time": "2022-07-13T15:18:05.055Z"
   },
   {
    "duration": 168,
    "start_time": "2022-07-13T15:18:05.173Z"
   },
   {
    "duration": 19,
    "start_time": "2022-07-13T15:18:05.342Z"
   },
   {
    "duration": 34,
    "start_time": "2022-07-13T15:18:05.363Z"
   },
   {
    "duration": 39,
    "start_time": "2022-07-13T15:18:05.399Z"
   },
   {
    "duration": 27,
    "start_time": "2022-07-13T15:18:05.441Z"
   },
   {
    "duration": 24,
    "start_time": "2022-07-13T15:18:05.470Z"
   },
   {
    "duration": 35,
    "start_time": "2022-07-13T15:18:05.496Z"
   },
   {
    "duration": 32,
    "start_time": "2022-07-13T15:18:05.534Z"
   },
   {
    "duration": 15,
    "start_time": "2022-07-13T15:18:05.568Z"
   },
   {
    "duration": 113,
    "start_time": "2022-07-13T15:18:05.585Z"
   },
   {
    "duration": 18,
    "start_time": "2022-07-13T15:18:05.700Z"
   },
   {
    "duration": 42,
    "start_time": "2022-07-13T15:18:05.720Z"
   },
   {
    "duration": 98,
    "start_time": "2022-07-13T15:18:05.764Z"
   },
   {
    "duration": 60,
    "start_time": "2022-07-13T15:18:05.865Z"
   },
   {
    "duration": 12,
    "start_time": "2022-07-13T15:18:05.927Z"
   },
   {
    "duration": 36,
    "start_time": "2022-07-13T15:18:05.941Z"
   },
   {
    "duration": 58,
    "start_time": "2022-07-13T15:18:05.979Z"
   },
   {
    "duration": 21,
    "start_time": "2022-07-13T15:18:06.039Z"
   },
   {
    "duration": 393,
    "start_time": "2022-07-13T15:20:15.979Z"
   },
   {
    "duration": 311,
    "start_time": "2022-07-13T15:20:16.374Z"
   },
   {
    "duration": 48,
    "start_time": "2022-07-13T15:20:16.687Z"
   },
   {
    "duration": 25,
    "start_time": "2022-07-13T15:20:16.737Z"
   },
   {
    "duration": 122,
    "start_time": "2022-07-13T15:20:16.765Z"
   },
   {
    "duration": 160,
    "start_time": "2022-07-13T15:20:16.889Z"
   },
   {
    "duration": 11,
    "start_time": "2022-07-13T15:20:17.051Z"
   },
   {
    "duration": 10,
    "start_time": "2022-07-13T15:20:17.064Z"
   },
   {
    "duration": 38,
    "start_time": "2022-07-13T15:20:17.076Z"
   },
   {
    "duration": 19,
    "start_time": "2022-07-13T15:20:17.116Z"
   },
   {
    "duration": 15,
    "start_time": "2022-07-13T15:20:17.137Z"
   },
   {
    "duration": 17,
    "start_time": "2022-07-13T15:20:17.153Z"
   },
   {
    "duration": 16,
    "start_time": "2022-07-13T15:20:17.172Z"
   },
   {
    "duration": 26,
    "start_time": "2022-07-13T15:20:17.191Z"
   },
   {
    "duration": 107,
    "start_time": "2022-07-13T15:20:17.220Z"
   },
   {
    "duration": 9,
    "start_time": "2022-07-13T15:20:17.328Z"
   },
   {
    "duration": 24,
    "start_time": "2022-07-13T15:20:17.339Z"
   },
   {
    "duration": 90,
    "start_time": "2022-07-13T15:20:17.365Z"
   },
   {
    "duration": 63,
    "start_time": "2022-07-13T15:20:17.457Z"
   },
   {
    "duration": 11,
    "start_time": "2022-07-13T15:20:17.522Z"
   },
   {
    "duration": 24,
    "start_time": "2022-07-13T15:20:17.535Z"
   },
   {
    "duration": 71,
    "start_time": "2022-07-13T15:20:17.560Z"
   },
   {
    "duration": 17,
    "start_time": "2022-07-13T15:20:17.632Z"
   },
   {
    "duration": 17,
    "start_time": "2022-07-13T15:20:50.348Z"
   },
   {
    "duration": 407,
    "start_time": "2022-07-13T15:21:33.866Z"
   },
   {
    "duration": 285,
    "start_time": "2022-07-13T15:21:34.275Z"
   },
   {
    "duration": 33,
    "start_time": "2022-07-13T15:21:34.562Z"
   },
   {
    "duration": 38,
    "start_time": "2022-07-13T15:21:34.597Z"
   },
   {
    "duration": 94,
    "start_time": "2022-07-13T15:21:34.638Z"
   },
   {
    "duration": 141,
    "start_time": "2022-07-13T15:21:34.734Z"
   },
   {
    "duration": 10,
    "start_time": "2022-07-13T15:21:34.877Z"
   },
   {
    "duration": 40,
    "start_time": "2022-07-13T15:21:34.888Z"
   },
   {
    "duration": 21,
    "start_time": "2022-07-13T15:21:34.930Z"
   },
   {
    "duration": 20,
    "start_time": "2022-07-13T15:21:34.952Z"
   },
   {
    "duration": 12,
    "start_time": "2022-07-13T15:21:34.974Z"
   },
   {
    "duration": 32,
    "start_time": "2022-07-13T15:21:34.988Z"
   },
   {
    "duration": 26,
    "start_time": "2022-07-13T15:21:35.022Z"
   },
   {
    "duration": 15,
    "start_time": "2022-07-13T15:21:35.050Z"
   },
   {
    "duration": 107,
    "start_time": "2022-07-13T15:21:35.067Z"
   },
   {
    "duration": 8,
    "start_time": "2022-07-13T15:21:35.175Z"
   },
   {
    "duration": 39,
    "start_time": "2022-07-13T15:21:35.185Z"
   },
   {
    "duration": 62,
    "start_time": "2022-07-13T15:21:35.225Z"
   },
   {
    "duration": 53,
    "start_time": "2022-07-13T15:21:35.289Z"
   },
   {
    "duration": 14,
    "start_time": "2022-07-13T15:21:35.344Z"
   },
   {
    "duration": 53,
    "start_time": "2022-07-13T15:21:35.360Z"
   },
   {
    "duration": 41,
    "start_time": "2022-07-13T15:21:35.415Z"
   },
   {
    "duration": 16,
    "start_time": "2022-07-13T15:21:35.457Z"
   },
   {
    "duration": 417,
    "start_time": "2022-07-14T07:06:08.084Z"
   },
   {
    "duration": 897,
    "start_time": "2022-07-14T07:06:08.504Z"
   },
   {
    "duration": 39,
    "start_time": "2022-07-14T07:06:09.403Z"
   },
   {
    "duration": 18,
    "start_time": "2022-07-14T07:06:09.445Z"
   },
   {
    "duration": 105,
    "start_time": "2022-07-14T07:06:09.464Z"
   },
   {
    "duration": 145,
    "start_time": "2022-07-14T07:06:09.570Z"
   },
   {
    "duration": 22,
    "start_time": "2022-07-14T07:06:09.716Z"
   },
   {
    "duration": 12,
    "start_time": "2022-07-14T07:06:09.739Z"
   },
   {
    "duration": 15,
    "start_time": "2022-07-14T07:06:09.752Z"
   },
   {
    "duration": 14,
    "start_time": "2022-07-14T07:06:09.769Z"
   },
   {
    "duration": 35,
    "start_time": "2022-07-14T07:06:09.785Z"
   },
   {
    "duration": 8,
    "start_time": "2022-07-14T07:06:09.823Z"
   },
   {
    "duration": 14,
    "start_time": "2022-07-14T07:06:09.832Z"
   },
   {
    "duration": 5,
    "start_time": "2022-07-14T07:06:09.848Z"
   },
   {
    "duration": 114,
    "start_time": "2022-07-14T07:06:09.855Z"
   },
   {
    "duration": 8,
    "start_time": "2022-07-14T07:06:09.971Z"
   },
   {
    "duration": 42,
    "start_time": "2022-07-14T07:06:09.981Z"
   },
   {
    "duration": 50,
    "start_time": "2022-07-14T07:06:10.024Z"
   },
   {
    "duration": 64,
    "start_time": "2022-07-14T07:06:10.076Z"
   },
   {
    "duration": 13,
    "start_time": "2022-07-14T07:06:10.141Z"
   },
   {
    "duration": 32,
    "start_time": "2022-07-14T07:06:10.156Z"
   },
   {
    "duration": 56,
    "start_time": "2022-07-14T07:06:10.189Z"
   },
   {
    "duration": 15,
    "start_time": "2022-07-14T07:06:10.247Z"
   },
   {
    "duration": 17,
    "start_time": "2022-07-14T07:17:26.435Z"
   },
   {
    "duration": 436,
    "start_time": "2022-07-14T07:35:44.665Z"
   },
   {
    "duration": 297,
    "start_time": "2022-07-14T07:35:45.103Z"
   },
   {
    "duration": 49,
    "start_time": "2022-07-14T07:35:45.402Z"
   },
   {
    "duration": 20,
    "start_time": "2022-07-14T07:35:45.453Z"
   },
   {
    "duration": 98,
    "start_time": "2022-07-14T07:35:45.475Z"
   },
   {
    "duration": 149,
    "start_time": "2022-07-14T07:35:45.575Z"
   },
   {
    "duration": 14,
    "start_time": "2022-07-14T07:35:45.725Z"
   },
   {
    "duration": 12,
    "start_time": "2022-07-14T07:35:45.741Z"
   },
   {
    "duration": 17,
    "start_time": "2022-07-14T07:35:45.755Z"
   },
   {
    "duration": 34,
    "start_time": "2022-07-14T07:35:45.775Z"
   },
   {
    "duration": 32,
    "start_time": "2022-07-14T07:35:45.811Z"
   },
   {
    "duration": 16,
    "start_time": "2022-07-14T07:35:45.846Z"
   },
   {
    "duration": 18,
    "start_time": "2022-07-14T07:35:45.866Z"
   },
   {
    "duration": 7,
    "start_time": "2022-07-14T07:35:45.887Z"
   },
   {
    "duration": 135,
    "start_time": "2022-07-14T07:35:45.896Z"
   },
   {
    "duration": 8,
    "start_time": "2022-07-14T07:35:46.033Z"
   },
   {
    "duration": 22,
    "start_time": "2022-07-14T07:35:46.043Z"
   },
   {
    "duration": 106,
    "start_time": "2022-07-14T07:35:46.067Z"
   },
   {
    "duration": 50,
    "start_time": "2022-07-14T07:35:46.175Z"
   },
   {
    "duration": 18,
    "start_time": "2022-07-14T07:35:46.227Z"
   },
   {
    "duration": 28,
    "start_time": "2022-07-14T07:35:46.247Z"
   },
   {
    "duration": 61,
    "start_time": "2022-07-14T07:35:46.278Z"
   },
   {
    "duration": 24,
    "start_time": "2022-07-14T07:35:46.341Z"
   },
   {
    "duration": 1751,
    "start_time": "2022-07-14T07:47:02.902Z"
   },
   {
    "duration": 9,
    "start_time": "2022-07-14T07:47:14.324Z"
   },
   {
    "duration": 508,
    "start_time": "2022-07-14T07:47:19.031Z"
   },
   {
    "duration": 142,
    "start_time": "2022-07-14T07:47:30.306Z"
   },
   {
    "duration": 152,
    "start_time": "2022-07-14T07:47:36.090Z"
   },
   {
    "duration": 502,
    "start_time": "2022-07-14T07:54:03.006Z"
   },
   {
    "duration": 818,
    "start_time": "2022-07-14T07:54:03.510Z"
   },
   {
    "duration": 58,
    "start_time": "2022-07-14T07:54:04.330Z"
   },
   {
    "duration": 60,
    "start_time": "2022-07-14T07:54:04.391Z"
   },
   {
    "duration": 145,
    "start_time": "2022-07-14T07:54:04.454Z"
   },
   {
    "duration": 200,
    "start_time": "2022-07-14T07:54:04.601Z"
   },
   {
    "duration": 24,
    "start_time": "2022-07-14T07:54:04.806Z"
   },
   {
    "duration": 47,
    "start_time": "2022-07-14T07:54:04.832Z"
   },
   {
    "duration": 52,
    "start_time": "2022-07-14T07:54:04.886Z"
   },
   {
    "duration": 40,
    "start_time": "2022-07-14T07:54:04.941Z"
   },
   {
    "duration": 37,
    "start_time": "2022-07-14T07:54:04.983Z"
   },
   {
    "duration": 75,
    "start_time": "2022-07-14T07:54:05.023Z"
   },
   {
    "duration": 109,
    "start_time": "2022-07-14T07:54:05.105Z"
   },
   {
    "duration": 23,
    "start_time": "2022-07-14T07:54:05.217Z"
   },
   {
    "duration": 192,
    "start_time": "2022-07-14T07:54:05.242Z"
   },
   {
    "duration": 49,
    "start_time": "2022-07-14T07:54:05.436Z"
   },
   {
    "duration": 52,
    "start_time": "2022-07-14T07:54:05.488Z"
   },
   {
    "duration": 75,
    "start_time": "2022-07-14T07:54:05.542Z"
   },
   {
    "duration": 60,
    "start_time": "2022-07-14T07:54:05.619Z"
   },
   {
    "duration": 28,
    "start_time": "2022-07-14T07:54:05.684Z"
   },
   {
    "duration": 124,
    "start_time": "2022-07-14T07:54:05.714Z"
   },
   {
    "duration": 54,
    "start_time": "2022-07-14T07:54:05.840Z"
   },
   {
    "duration": 22,
    "start_time": "2022-07-14T07:54:05.895Z"
   },
   {
    "duration": 133,
    "start_time": "2022-07-14T07:54:05.919Z"
   },
   {
    "duration": 7,
    "start_time": "2022-07-14T07:54:41.021Z"
   },
   {
    "duration": 409,
    "start_time": "2022-07-14T07:54:52.519Z"
   },
   {
    "duration": 121,
    "start_time": "2022-07-14T07:54:56.896Z"
   },
   {
    "duration": 127,
    "start_time": "2022-07-14T07:55:26.018Z"
   },
   {
    "duration": 108,
    "start_time": "2022-07-14T07:56:16.324Z"
   },
   {
    "duration": 110,
    "start_time": "2022-07-14T08:08:42.460Z"
   },
   {
    "duration": 176,
    "start_time": "2022-07-14T08:11:27.457Z"
   },
   {
    "duration": 127,
    "start_time": "2022-07-14T08:11:36.184Z"
   },
   {
    "duration": 49,
    "start_time": "2022-07-14T08:21:04.868Z"
   },
   {
    "duration": 11,
    "start_time": "2022-07-14T08:21:33.143Z"
   },
   {
    "duration": 38,
    "start_time": "2022-07-14T08:22:19.443Z"
   },
   {
    "duration": 85,
    "start_time": "2022-07-14T08:23:02.497Z"
   },
   {
    "duration": 74,
    "start_time": "2022-07-14T08:23:28.013Z"
   },
   {
    "duration": 70,
    "start_time": "2022-07-14T08:23:46.899Z"
   },
   {
    "duration": 75,
    "start_time": "2022-07-14T08:23:53.424Z"
   },
   {
    "duration": 80,
    "start_time": "2022-07-14T08:24:07.168Z"
   },
   {
    "duration": 68,
    "start_time": "2022-07-14T08:25:09.205Z"
   },
   {
    "duration": 73,
    "start_time": "2022-07-14T08:25:12.376Z"
   },
   {
    "duration": 22,
    "start_time": "2022-07-14T08:28:31.837Z"
   },
   {
    "duration": 17,
    "start_time": "2022-07-14T08:28:36.726Z"
   },
   {
    "duration": 20,
    "start_time": "2022-07-14T08:28:38.878Z"
   },
   {
    "duration": 28,
    "start_time": "2022-07-14T08:28:46.043Z"
   },
   {
    "duration": 23,
    "start_time": "2022-07-14T08:29:01.073Z"
   },
   {
    "duration": 22,
    "start_time": "2022-07-14T08:29:21.957Z"
   },
   {
    "duration": 18,
    "start_time": "2022-07-14T08:34:29.824Z"
   },
   {
    "duration": 4,
    "start_time": "2022-07-14T08:35:02.263Z"
   },
   {
    "duration": 40,
    "start_time": "2022-07-14T08:35:07.152Z"
   },
   {
    "duration": 22,
    "start_time": "2022-07-14T08:35:18.608Z"
   },
   {
    "duration": 39,
    "start_time": "2022-07-14T08:38:53.352Z"
   },
   {
    "duration": 50,
    "start_time": "2022-07-14T08:39:08.370Z"
   },
   {
    "duration": 39,
    "start_time": "2022-07-14T08:39:31.248Z"
   },
   {
    "duration": 33,
    "start_time": "2022-07-14T08:39:37.314Z"
   },
   {
    "duration": 42,
    "start_time": "2022-07-14T08:40:55.143Z"
   },
   {
    "duration": 56,
    "start_time": "2022-07-14T08:41:17.421Z"
   },
   {
    "duration": 61,
    "start_time": "2022-07-14T08:41:42.139Z"
   },
   {
    "duration": 67,
    "start_time": "2022-07-14T08:42:13.309Z"
   },
   {
    "duration": 63,
    "start_time": "2022-07-14T08:42:41.595Z"
   },
   {
    "duration": 62,
    "start_time": "2022-07-14T08:45:53.826Z"
   },
   {
    "duration": 67,
    "start_time": "2022-07-14T08:46:18.449Z"
   },
   {
    "duration": 63,
    "start_time": "2022-07-14T08:48:32.552Z"
   },
   {
    "duration": 57,
    "start_time": "2022-07-14T08:48:38.533Z"
   },
   {
    "duration": 60,
    "start_time": "2022-07-14T08:49:01.089Z"
   },
   {
    "duration": 59,
    "start_time": "2022-07-14T08:50:50.716Z"
   },
   {
    "duration": 61,
    "start_time": "2022-07-14T09:00:05.939Z"
   },
   {
    "duration": 60,
    "start_time": "2022-07-14T09:00:11.841Z"
   },
   {
    "duration": 44,
    "start_time": "2022-07-14T09:09:05.729Z"
   },
   {
    "duration": 4,
    "start_time": "2022-07-14T09:09:58.051Z"
   },
   {
    "duration": 81,
    "start_time": "2022-07-14T09:10:11.468Z"
   },
   {
    "duration": 88,
    "start_time": "2022-07-14T09:10:15.147Z"
   },
   {
    "duration": 18,
    "start_time": "2022-07-14T09:10:21.164Z"
   },
   {
    "duration": 61,
    "start_time": "2022-07-14T09:10:27.687Z"
   },
   {
    "duration": 61,
    "start_time": "2022-07-14T09:11:30.424Z"
   },
   {
    "duration": 46,
    "start_time": "2022-07-14T09:11:43.189Z"
   },
   {
    "duration": 45,
    "start_time": "2022-07-14T09:12:34.348Z"
   },
   {
    "duration": 74,
    "start_time": "2022-07-14T09:13:23.192Z"
   },
   {
    "duration": 64,
    "start_time": "2022-07-14T09:14:36.199Z"
   },
   {
    "duration": 65,
    "start_time": "2022-07-14T09:20:29.027Z"
   },
   {
    "duration": 80,
    "start_time": "2022-07-14T10:28:31.701Z"
   },
   {
    "duration": 125,
    "start_time": "2022-07-14T10:47:35.409Z"
   },
   {
    "duration": 103,
    "start_time": "2022-07-14T10:48:18.745Z"
   },
   {
    "duration": 84,
    "start_time": "2022-07-14T10:48:52.753Z"
   },
   {
    "duration": 101,
    "start_time": "2022-07-14T10:49:04.795Z"
   },
   {
    "duration": 48,
    "start_time": "2022-07-14T10:53:53.513Z"
   },
   {
    "duration": 21,
    "start_time": "2022-07-14T10:54:09.297Z"
   },
   {
    "duration": 18,
    "start_time": "2022-07-14T10:54:19.803Z"
   },
   {
    "duration": 190,
    "start_time": "2022-07-14T10:54:24.893Z"
   },
   {
    "duration": 29,
    "start_time": "2022-07-14T10:54:35.432Z"
   },
   {
    "duration": 17,
    "start_time": "2022-07-14T10:54:41.641Z"
   },
   {
    "duration": 12,
    "start_time": "2022-07-14T11:09:57.869Z"
   },
   {
    "duration": 8,
    "start_time": "2022-07-14T11:10:52.513Z"
   },
   {
    "duration": 18,
    "start_time": "2022-07-14T11:10:58.902Z"
   },
   {
    "duration": 526,
    "start_time": "2022-07-14T11:11:21.403Z"
   },
   {
    "duration": 35,
    "start_time": "2022-07-14T11:11:29.659Z"
   },
   {
    "duration": 285,
    "start_time": "2022-07-14T11:18:15.927Z"
   },
   {
    "duration": 311,
    "start_time": "2022-07-14T11:18:37.255Z"
   },
   {
    "duration": 274,
    "start_time": "2022-07-14T11:18:42.607Z"
   },
   {
    "duration": 273,
    "start_time": "2022-07-14T11:18:49.264Z"
   },
   {
    "duration": 367,
    "start_time": "2022-07-14T11:20:53.180Z"
   },
   {
    "duration": 121,
    "start_time": "2022-07-14T11:21:05.924Z"
   },
   {
    "duration": 285,
    "start_time": "2022-07-14T11:21:08.444Z"
   },
   {
    "duration": 114,
    "start_time": "2022-07-14T11:21:54.897Z"
   },
   {
    "duration": 341,
    "start_time": "2022-07-14T11:22:51.459Z"
   },
   {
    "duration": 284,
    "start_time": "2022-07-14T11:23:04.010Z"
   },
   {
    "duration": 17,
    "start_time": "2022-07-14T11:37:25.421Z"
   },
   {
    "duration": 16,
    "start_time": "2022-07-14T11:38:21.856Z"
   },
   {
    "duration": 13,
    "start_time": "2022-07-14T11:40:37.749Z"
   },
   {
    "duration": 32,
    "start_time": "2022-07-14T11:40:45.074Z"
   },
   {
    "duration": 552,
    "start_time": "2022-07-14T11:44:49.606Z"
   },
   {
    "duration": 28,
    "start_time": "2022-07-14T11:44:58.054Z"
   },
   {
    "duration": 30,
    "start_time": "2022-07-14T11:45:12.520Z"
   },
   {
    "duration": 37,
    "start_time": "2022-07-14T11:45:16.518Z"
   },
   {
    "duration": 35,
    "start_time": "2022-07-14T11:50:09.320Z"
   },
   {
    "duration": 33,
    "start_time": "2022-07-14T11:55:56.819Z"
   },
   {
    "duration": 39,
    "start_time": "2022-07-14T11:56:18.398Z"
   },
   {
    "duration": 50,
    "start_time": "2022-07-14T11:57:09.406Z"
   },
   {
    "duration": 71,
    "start_time": "2022-07-14T11:58:04.442Z"
   },
   {
    "duration": 1194,
    "start_time": "2022-07-14T11:58:29.199Z"
   },
   {
    "duration": 285,
    "start_time": "2022-07-14T11:58:30.395Z"
   },
   {
    "duration": 32,
    "start_time": "2022-07-14T11:58:30.682Z"
   },
   {
    "duration": 20,
    "start_time": "2022-07-14T11:58:30.716Z"
   },
   {
    "duration": 93,
    "start_time": "2022-07-14T11:58:30.737Z"
   },
   {
    "duration": 132,
    "start_time": "2022-07-14T11:58:30.831Z"
   },
   {
    "duration": 11,
    "start_time": "2022-07-14T11:58:30.965Z"
   },
   {
    "duration": 27,
    "start_time": "2022-07-14T11:58:30.977Z"
   },
   {
    "duration": 24,
    "start_time": "2022-07-14T11:58:31.005Z"
   },
   {
    "duration": 21,
    "start_time": "2022-07-14T11:58:31.033Z"
   },
   {
    "duration": 34,
    "start_time": "2022-07-14T11:58:31.056Z"
   },
   {
    "duration": 15,
    "start_time": "2022-07-14T11:58:31.092Z"
   },
   {
    "duration": 26,
    "start_time": "2022-07-14T11:58:31.109Z"
   },
   {
    "duration": 15,
    "start_time": "2022-07-14T11:58:31.137Z"
   },
   {
    "duration": 136,
    "start_time": "2022-07-14T11:58:31.154Z"
   },
   {
    "duration": 17,
    "start_time": "2022-07-14T11:58:31.292Z"
   },
   {
    "duration": 33,
    "start_time": "2022-07-14T11:58:31.311Z"
   },
   {
    "duration": 48,
    "start_time": "2022-07-14T11:58:31.346Z"
   },
   {
    "duration": 57,
    "start_time": "2022-07-14T11:58:31.396Z"
   },
   {
    "duration": 21,
    "start_time": "2022-07-14T11:58:31.455Z"
   },
   {
    "duration": 43,
    "start_time": "2022-07-14T11:58:31.478Z"
   },
   {
    "duration": 49,
    "start_time": "2022-07-14T11:58:31.523Z"
   },
   {
    "duration": 21,
    "start_time": "2022-07-14T11:58:31.575Z"
   },
   {
    "duration": 197,
    "start_time": "2022-07-14T11:58:31.600Z"
   },
   {
    "duration": 75,
    "start_time": "2022-07-14T11:58:31.798Z"
   },
   {
    "duration": 78,
    "start_time": "2022-07-14T11:58:31.874Z"
   },
   {
    "duration": 308,
    "start_time": "2022-07-14T11:58:31.955Z"
   },
   {
    "duration": 145,
    "start_time": "2022-07-14T11:58:32.267Z"
   },
   {
    "duration": 1169,
    "start_time": "2022-07-14T11:58:32.414Z"
   },
   {
    "duration": 15,
    "start_time": "2022-07-14T11:59:08.123Z"
   },
   {
    "duration": 1158,
    "start_time": "2022-07-14T12:00:12.790Z"
   },
   {
    "duration": 270,
    "start_time": "2022-07-14T12:00:13.950Z"
   },
   {
    "duration": 36,
    "start_time": "2022-07-14T12:00:14.222Z"
   },
   {
    "duration": 14,
    "start_time": "2022-07-14T12:00:14.260Z"
   },
   {
    "duration": 99,
    "start_time": "2022-07-14T12:00:14.277Z"
   },
   {
    "duration": 141,
    "start_time": "2022-07-14T12:00:14.378Z"
   },
   {
    "duration": 11,
    "start_time": "2022-07-14T12:00:14.520Z"
   },
   {
    "duration": 28,
    "start_time": "2022-07-14T12:00:14.532Z"
   },
   {
    "duration": 16,
    "start_time": "2022-07-14T12:00:14.562Z"
   },
   {
    "duration": 18,
    "start_time": "2022-07-14T12:00:14.580Z"
   },
   {
    "duration": 23,
    "start_time": "2022-07-14T12:00:14.600Z"
   },
   {
    "duration": 16,
    "start_time": "2022-07-14T12:00:14.625Z"
   },
   {
    "duration": 16,
    "start_time": "2022-07-14T12:00:14.642Z"
   },
   {
    "duration": 18,
    "start_time": "2022-07-14T12:00:14.661Z"
   },
   {
    "duration": 87,
    "start_time": "2022-07-14T12:00:14.681Z"
   },
   {
    "duration": 11,
    "start_time": "2022-07-14T12:00:14.770Z"
   },
   {
    "duration": 44,
    "start_time": "2022-07-14T12:00:14.784Z"
   },
   {
    "duration": 85,
    "start_time": "2022-07-14T12:00:14.831Z"
   },
   {
    "duration": 42,
    "start_time": "2022-07-14T12:00:14.918Z"
   },
   {
    "duration": 10,
    "start_time": "2022-07-14T12:00:14.962Z"
   },
   {
    "duration": 40,
    "start_time": "2022-07-14T12:00:14.974Z"
   },
   {
    "duration": 38,
    "start_time": "2022-07-14T12:00:15.017Z"
   },
   {
    "duration": 18,
    "start_time": "2022-07-14T12:00:15.057Z"
   },
   {
    "duration": 171,
    "start_time": "2022-07-14T12:00:15.077Z"
   },
   {
    "duration": 69,
    "start_time": "2022-07-14T12:00:15.249Z"
   },
   {
    "duration": 65,
    "start_time": "2022-07-14T12:00:15.320Z"
   },
   {
    "duration": 325,
    "start_time": "2022-07-14T12:00:15.387Z"
   },
   {
    "duration": 138,
    "start_time": "2022-07-14T12:00:15.714Z"
   },
   {
    "duration": 16,
    "start_time": "2022-07-14T12:00:15.854Z"
   },
   {
    "duration": 1133,
    "start_time": "2022-07-14T12:00:15.872Z"
   },
   {
    "duration": 3,
    "start_time": "2022-07-14T12:00:30.346Z"
   },
   {
    "duration": 275,
    "start_time": "2022-07-14T12:00:30.351Z"
   },
   {
    "duration": 34,
    "start_time": "2022-07-14T12:00:30.628Z"
   },
   {
    "duration": 32,
    "start_time": "2022-07-14T12:00:30.664Z"
   },
   {
    "duration": 76,
    "start_time": "2022-07-14T12:00:30.698Z"
   },
   {
    "duration": 117,
    "start_time": "2022-07-14T12:00:30.776Z"
   },
   {
    "duration": 9,
    "start_time": "2022-07-14T12:00:30.895Z"
   },
   {
    "duration": 20,
    "start_time": "2022-07-14T12:00:30.910Z"
   },
   {
    "duration": 20,
    "start_time": "2022-07-14T12:00:30.932Z"
   },
   {
    "duration": 37,
    "start_time": "2022-07-14T12:00:30.954Z"
   },
   {
    "duration": 28,
    "start_time": "2022-07-14T12:00:30.992Z"
   },
   {
    "duration": 39,
    "start_time": "2022-07-14T12:00:31.021Z"
   },
   {
    "duration": 27,
    "start_time": "2022-07-14T12:00:31.062Z"
   },
   {
    "duration": 34,
    "start_time": "2022-07-14T12:00:31.092Z"
   },
   {
    "duration": 111,
    "start_time": "2022-07-14T12:00:31.128Z"
   },
   {
    "duration": 7,
    "start_time": "2022-07-14T12:00:31.241Z"
   },
   {
    "duration": 31,
    "start_time": "2022-07-14T12:00:31.250Z"
   },
   {
    "duration": 62,
    "start_time": "2022-07-14T12:00:31.283Z"
   },
   {
    "duration": 54,
    "start_time": "2022-07-14T12:00:31.347Z"
   },
   {
    "duration": 10,
    "start_time": "2022-07-14T12:00:31.403Z"
   },
   {
    "duration": 35,
    "start_time": "2022-07-14T12:00:31.415Z"
   },
   {
    "duration": 49,
    "start_time": "2022-07-14T12:00:31.453Z"
   },
   {
    "duration": 23,
    "start_time": "2022-07-14T12:00:31.510Z"
   },
   {
    "duration": 165,
    "start_time": "2022-07-14T12:00:31.536Z"
   },
   {
    "duration": 63,
    "start_time": "2022-07-14T12:00:31.702Z"
   },
   {
    "duration": 80,
    "start_time": "2022-07-14T12:00:31.767Z"
   },
   {
    "duration": 323,
    "start_time": "2022-07-14T12:00:31.849Z"
   },
   {
    "duration": 136,
    "start_time": "2022-07-14T12:00:32.174Z"
   },
   {
    "duration": 1224,
    "start_time": "2022-07-14T12:00:56.477Z"
   },
   {
    "duration": 311,
    "start_time": "2022-07-14T12:00:57.703Z"
   },
   {
    "duration": 35,
    "start_time": "2022-07-14T12:00:58.016Z"
   },
   {
    "duration": 15,
    "start_time": "2022-07-14T12:00:58.053Z"
   },
   {
    "duration": 106,
    "start_time": "2022-07-14T12:00:58.070Z"
   },
   {
    "duration": 140,
    "start_time": "2022-07-14T12:00:58.177Z"
   },
   {
    "duration": 11,
    "start_time": "2022-07-14T12:00:58.320Z"
   },
   {
    "duration": 12,
    "start_time": "2022-07-14T12:00:58.333Z"
   },
   {
    "duration": 18,
    "start_time": "2022-07-14T12:00:58.346Z"
   },
   {
    "duration": 20,
    "start_time": "2022-07-14T12:00:58.366Z"
   },
   {
    "duration": 28,
    "start_time": "2022-07-14T12:00:58.388Z"
   },
   {
    "duration": 9,
    "start_time": "2022-07-14T12:00:58.418Z"
   },
   {
    "duration": 15,
    "start_time": "2022-07-14T12:00:58.429Z"
   },
   {
    "duration": 13,
    "start_time": "2022-07-14T12:00:58.446Z"
   },
   {
    "duration": 105,
    "start_time": "2022-07-14T12:00:58.461Z"
   },
   {
    "duration": 7,
    "start_time": "2022-07-14T12:00:58.568Z"
   },
   {
    "duration": 37,
    "start_time": "2022-07-14T12:00:58.577Z"
   },
   {
    "duration": 49,
    "start_time": "2022-07-14T12:00:58.615Z"
   },
   {
    "duration": 59,
    "start_time": "2022-07-14T12:00:58.666Z"
   },
   {
    "duration": 12,
    "start_time": "2022-07-14T12:00:58.727Z"
   },
   {
    "duration": 27,
    "start_time": "2022-07-14T12:00:58.740Z"
   },
   {
    "duration": 71,
    "start_time": "2022-07-14T12:00:58.768Z"
   },
   {
    "duration": 26,
    "start_time": "2022-07-14T12:00:58.841Z"
   },
   {
    "duration": 167,
    "start_time": "2022-07-14T12:00:58.869Z"
   },
   {
    "duration": 83,
    "start_time": "2022-07-14T12:00:59.038Z"
   },
   {
    "duration": 75,
    "start_time": "2022-07-14T12:00:59.123Z"
   },
   {
    "duration": 332,
    "start_time": "2022-07-14T12:00:59.209Z"
   },
   {
    "duration": 136,
    "start_time": "2022-07-14T12:00:59.543Z"
   },
   {
    "duration": 8,
    "start_time": "2022-07-14T12:01:02.598Z"
   },
   {
    "duration": 19,
    "start_time": "2022-07-14T12:02:36.312Z"
   },
   {
    "duration": 1150,
    "start_time": "2022-07-14T12:05:04.150Z"
   },
   {
    "duration": 261,
    "start_time": "2022-07-14T12:05:05.302Z"
   },
   {
    "duration": 34,
    "start_time": "2022-07-14T12:05:05.565Z"
   },
   {
    "duration": 14,
    "start_time": "2022-07-14T12:05:05.601Z"
   },
   {
    "duration": 78,
    "start_time": "2022-07-14T12:05:05.618Z"
   },
   {
    "duration": 133,
    "start_time": "2022-07-14T12:05:05.709Z"
   },
   {
    "duration": 10,
    "start_time": "2022-07-14T12:05:05.844Z"
   },
   {
    "duration": 9,
    "start_time": "2022-07-14T12:05:05.856Z"
   },
   {
    "duration": 15,
    "start_time": "2022-07-14T12:05:05.867Z"
   },
   {
    "duration": 30,
    "start_time": "2022-07-14T12:05:05.883Z"
   },
   {
    "duration": 18,
    "start_time": "2022-07-14T12:05:05.915Z"
   },
   {
    "duration": 20,
    "start_time": "2022-07-14T12:05:05.935Z"
   },
   {
    "duration": 20,
    "start_time": "2022-07-14T12:05:05.956Z"
   },
   {
    "duration": 5,
    "start_time": "2022-07-14T12:05:05.978Z"
   },
   {
    "duration": 94,
    "start_time": "2022-07-14T12:05:05.985Z"
   },
   {
    "duration": 11,
    "start_time": "2022-07-14T12:05:06.081Z"
   },
   {
    "duration": 37,
    "start_time": "2022-07-14T12:05:06.094Z"
   },
   {
    "duration": 54,
    "start_time": "2022-07-14T12:05:06.133Z"
   },
   {
    "duration": 62,
    "start_time": "2022-07-14T12:05:06.189Z"
   },
   {
    "duration": 11,
    "start_time": "2022-07-14T12:05:06.252Z"
   },
   {
    "duration": 19,
    "start_time": "2022-07-14T12:05:06.265Z"
   },
   {
    "duration": 58,
    "start_time": "2022-07-14T12:05:06.286Z"
   },
   {
    "duration": 18,
    "start_time": "2022-07-14T12:05:06.346Z"
   },
   {
    "duration": 155,
    "start_time": "2022-07-14T12:05:06.365Z"
   },
   {
    "duration": 62,
    "start_time": "2022-07-14T12:05:06.522Z"
   },
   {
    "duration": 197,
    "start_time": "2022-07-14T12:05:06.585Z"
   },
   {
    "duration": 306,
    "start_time": "2022-07-14T12:05:06.784Z"
   },
   {
    "duration": 153,
    "start_time": "2022-07-14T12:05:07.092Z"
   },
   {
    "duration": 20,
    "start_time": "2022-07-14T12:05:10.555Z"
   },
   {
    "duration": 177,
    "start_time": "2022-07-14T12:05:23.550Z"
   },
   {
    "duration": 36,
    "start_time": "2022-07-14T12:05:41.342Z"
   },
   {
    "duration": 1289,
    "start_time": "2022-07-14T12:06:30.498Z"
   },
   {
    "duration": 286,
    "start_time": "2022-07-14T12:06:31.789Z"
   },
   {
    "duration": 49,
    "start_time": "2022-07-14T12:06:32.077Z"
   },
   {
    "duration": 27,
    "start_time": "2022-07-14T12:06:32.128Z"
   },
   {
    "duration": 100,
    "start_time": "2022-07-14T12:06:32.158Z"
   },
   {
    "duration": 127,
    "start_time": "2022-07-14T12:06:32.260Z"
   },
   {
    "duration": 10,
    "start_time": "2022-07-14T12:06:32.388Z"
   },
   {
    "duration": 28,
    "start_time": "2022-07-14T12:06:32.399Z"
   },
   {
    "duration": 29,
    "start_time": "2022-07-14T12:06:32.429Z"
   },
   {
    "duration": 17,
    "start_time": "2022-07-14T12:06:32.460Z"
   },
   {
    "duration": 23,
    "start_time": "2022-07-14T12:06:32.479Z"
   },
   {
    "duration": 21,
    "start_time": "2022-07-14T12:06:32.504Z"
   },
   {
    "duration": 22,
    "start_time": "2022-07-14T12:06:32.527Z"
   },
   {
    "duration": 8,
    "start_time": "2022-07-14T12:06:32.552Z"
   },
   {
    "duration": 93,
    "start_time": "2022-07-14T12:06:32.562Z"
   },
   {
    "duration": 7,
    "start_time": "2022-07-14T12:06:32.656Z"
   },
   {
    "duration": 23,
    "start_time": "2022-07-14T12:06:32.665Z"
   },
   {
    "duration": 72,
    "start_time": "2022-07-14T12:06:32.690Z"
   },
   {
    "duration": 42,
    "start_time": "2022-07-14T12:06:32.763Z"
   },
   {
    "duration": 13,
    "start_time": "2022-07-14T12:06:32.820Z"
   },
   {
    "duration": 22,
    "start_time": "2022-07-14T12:06:32.835Z"
   },
   {
    "duration": 33,
    "start_time": "2022-07-14T12:06:32.859Z"
   },
   {
    "duration": 41,
    "start_time": "2022-07-14T12:06:32.894Z"
   },
   {
    "duration": 139,
    "start_time": "2022-07-14T12:06:32.936Z"
   },
   {
    "duration": 75,
    "start_time": "2022-07-14T12:06:33.077Z"
   },
   {
    "duration": 83,
    "start_time": "2022-07-14T12:06:33.154Z"
   },
   {
    "duration": 307,
    "start_time": "2022-07-14T12:06:33.239Z"
   },
   {
    "duration": 137,
    "start_time": "2022-07-14T12:06:33.548Z"
   },
   {
    "duration": 123,
    "start_time": "2022-07-14T12:06:33.688Z"
   },
   {
    "duration": 1187,
    "start_time": "2022-07-14T12:08:04.136Z"
   },
   {
    "duration": 278,
    "start_time": "2022-07-14T12:08:05.325Z"
   },
   {
    "duration": 45,
    "start_time": "2022-07-14T12:08:05.605Z"
   },
   {
    "duration": 27,
    "start_time": "2022-07-14T12:08:05.652Z"
   },
   {
    "duration": 93,
    "start_time": "2022-07-14T12:08:05.682Z"
   },
   {
    "duration": 127,
    "start_time": "2022-07-14T12:08:05.777Z"
   },
   {
    "duration": 25,
    "start_time": "2022-07-14T12:08:05.905Z"
   },
   {
    "duration": 18,
    "start_time": "2022-07-14T12:08:05.932Z"
   },
   {
    "duration": 19,
    "start_time": "2022-07-14T12:08:05.952Z"
   },
   {
    "duration": 26,
    "start_time": "2022-07-14T12:08:05.973Z"
   },
   {
    "duration": 35,
    "start_time": "2022-07-14T12:08:06.000Z"
   },
   {
    "duration": 19,
    "start_time": "2022-07-14T12:08:06.037Z"
   },
   {
    "duration": 39,
    "start_time": "2022-07-14T12:08:06.057Z"
   },
   {
    "duration": 7,
    "start_time": "2022-07-14T12:08:06.099Z"
   },
   {
    "duration": 116,
    "start_time": "2022-07-14T12:08:06.108Z"
   },
   {
    "duration": 8,
    "start_time": "2022-07-14T12:08:06.226Z"
   },
   {
    "duration": 31,
    "start_time": "2022-07-14T12:08:06.236Z"
   },
   {
    "duration": 65,
    "start_time": "2022-07-14T12:08:06.269Z"
   },
   {
    "duration": 42,
    "start_time": "2022-07-14T12:08:06.336Z"
   },
   {
    "duration": 18,
    "start_time": "2022-07-14T12:08:06.380Z"
   },
   {
    "duration": 47,
    "start_time": "2022-07-14T12:08:06.400Z"
   },
   {
    "duration": 45,
    "start_time": "2022-07-14T12:08:06.448Z"
   },
   {
    "duration": 43,
    "start_time": "2022-07-14T12:08:06.495Z"
   },
   {
    "duration": 148,
    "start_time": "2022-07-14T12:08:06.541Z"
   },
   {
    "duration": 70,
    "start_time": "2022-07-14T12:08:06.691Z"
   },
   {
    "duration": 73,
    "start_time": "2022-07-14T12:08:06.763Z"
   },
   {
    "duration": 315,
    "start_time": "2022-07-14T12:08:06.838Z"
   },
   {
    "duration": 141,
    "start_time": "2022-07-14T12:08:07.155Z"
   },
   {
    "duration": 109,
    "start_time": "2022-07-14T12:08:07.298Z"
   },
   {
    "duration": 5,
    "start_time": "2022-07-14T12:09:01.205Z"
   },
   {
    "duration": 104,
    "start_time": "2022-07-14T12:22:14.164Z"
   },
   {
    "duration": 3,
    "start_time": "2022-07-14T12:22:30.435Z"
   },
   {
    "duration": 10,
    "start_time": "2022-07-14T12:24:55.723Z"
   },
   {
    "duration": 1133,
    "start_time": "2022-07-14T12:25:14.508Z"
   },
   {
    "duration": 259,
    "start_time": "2022-07-14T12:25:15.643Z"
   },
   {
    "duration": 36,
    "start_time": "2022-07-14T12:25:15.903Z"
   },
   {
    "duration": 26,
    "start_time": "2022-07-14T12:25:15.941Z"
   },
   {
    "duration": 93,
    "start_time": "2022-07-14T12:25:15.969Z"
   },
   {
    "duration": 135,
    "start_time": "2022-07-14T12:25:16.064Z"
   },
   {
    "duration": 16,
    "start_time": "2022-07-14T12:25:16.201Z"
   },
   {
    "duration": 37,
    "start_time": "2022-07-14T12:25:16.219Z"
   },
   {
    "duration": 32,
    "start_time": "2022-07-14T12:25:16.259Z"
   },
   {
    "duration": 21,
    "start_time": "2022-07-14T12:25:16.293Z"
   },
   {
    "duration": 29,
    "start_time": "2022-07-14T12:25:16.316Z"
   },
   {
    "duration": 29,
    "start_time": "2022-07-14T12:25:16.347Z"
   },
   {
    "duration": 27,
    "start_time": "2022-07-14T12:25:16.378Z"
   },
   {
    "duration": 14,
    "start_time": "2022-07-14T12:25:16.409Z"
   },
   {
    "duration": 97,
    "start_time": "2022-07-14T12:25:16.425Z"
   },
   {
    "duration": 9,
    "start_time": "2022-07-14T12:25:16.524Z"
   },
   {
    "duration": 50,
    "start_time": "2022-07-14T12:25:16.535Z"
   },
   {
    "duration": 63,
    "start_time": "2022-07-14T12:25:16.587Z"
   },
   {
    "duration": 45,
    "start_time": "2022-07-14T12:25:16.652Z"
   },
   {
    "duration": 17,
    "start_time": "2022-07-14T12:25:16.699Z"
   },
   {
    "duration": 55,
    "start_time": "2022-07-14T12:25:16.717Z"
   },
   {
    "duration": 57,
    "start_time": "2022-07-14T12:25:16.773Z"
   },
   {
    "duration": 34,
    "start_time": "2022-07-14T12:25:16.832Z"
   },
   {
    "duration": 157,
    "start_time": "2022-07-14T12:25:16.868Z"
   },
   {
    "duration": 59,
    "start_time": "2022-07-14T12:25:17.028Z"
   },
   {
    "duration": 77,
    "start_time": "2022-07-14T12:25:17.089Z"
   },
   {
    "duration": 304,
    "start_time": "2022-07-14T12:25:17.168Z"
   },
   {
    "duration": 130,
    "start_time": "2022-07-14T12:25:17.474Z"
   },
   {
    "duration": 120,
    "start_time": "2022-07-14T12:25:17.605Z"
   },
   {
    "duration": 174,
    "start_time": "2022-07-14T12:25:17.727Z"
   },
   {
    "duration": 18,
    "start_time": "2022-07-14T12:25:53.509Z"
   },
   {
    "duration": 10,
    "start_time": "2022-07-14T12:26:46.889Z"
   },
   {
    "duration": 7,
    "start_time": "2022-07-14T12:27:36.093Z"
   },
   {
    "duration": 5,
    "start_time": "2022-07-14T12:27:47.568Z"
   },
   {
    "duration": 8,
    "start_time": "2022-07-14T12:28:50.410Z"
   },
   {
    "duration": 8,
    "start_time": "2022-07-14T12:28:52.771Z"
   },
   {
    "duration": 9,
    "start_time": "2022-07-14T12:28:59.860Z"
   },
   {
    "duration": 8,
    "start_time": "2022-07-14T12:29:02.446Z"
   },
   {
    "duration": 11,
    "start_time": "2022-07-14T12:29:16.969Z"
   },
   {
    "duration": 9,
    "start_time": "2022-07-14T12:29:20.139Z"
   },
   {
    "duration": 8,
    "start_time": "2022-07-14T12:29:23.290Z"
   },
   {
    "duration": 10,
    "start_time": "2022-07-14T12:30:12.174Z"
   },
   {
    "duration": 8,
    "start_time": "2022-07-14T12:30:31.460Z"
   },
   {
    "duration": 5,
    "start_time": "2022-07-14T12:32:53.949Z"
   },
   {
    "duration": 6,
    "start_time": "2022-07-14T12:33:33.315Z"
   },
   {
    "duration": 7,
    "start_time": "2022-07-14T12:33:40.414Z"
   },
   {
    "duration": 8,
    "start_time": "2022-07-14T12:33:43.723Z"
   },
   {
    "duration": 7,
    "start_time": "2022-07-14T12:34:09.398Z"
   },
   {
    "duration": 10,
    "start_time": "2022-07-14T12:35:05.744Z"
   },
   {
    "duration": 11,
    "start_time": "2022-07-14T12:35:42.280Z"
   },
   {
    "duration": 1142,
    "start_time": "2022-07-14T12:35:48.226Z"
   },
   {
    "duration": 323,
    "start_time": "2022-07-14T12:35:49.370Z"
   },
   {
    "duration": 41,
    "start_time": "2022-07-14T12:35:49.695Z"
   },
   {
    "duration": 21,
    "start_time": "2022-07-14T12:35:49.737Z"
   },
   {
    "duration": 85,
    "start_time": "2022-07-14T12:35:49.760Z"
   },
   {
    "duration": 126,
    "start_time": "2022-07-14T12:35:49.847Z"
   },
   {
    "duration": 9,
    "start_time": "2022-07-14T12:35:49.975Z"
   },
   {
    "duration": 11,
    "start_time": "2022-07-14T12:35:49.986Z"
   },
   {
    "duration": 11,
    "start_time": "2022-07-14T12:35:50.010Z"
   },
   {
    "duration": 21,
    "start_time": "2022-07-14T12:35:50.023Z"
   },
   {
    "duration": 17,
    "start_time": "2022-07-14T12:35:50.045Z"
   },
   {
    "duration": 11,
    "start_time": "2022-07-14T12:35:50.064Z"
   },
   {
    "duration": 15,
    "start_time": "2022-07-14T12:35:50.076Z"
   },
   {
    "duration": 18,
    "start_time": "2022-07-14T12:35:50.093Z"
   },
   {
    "duration": 90,
    "start_time": "2022-07-14T12:35:50.113Z"
   },
   {
    "duration": 9,
    "start_time": "2022-07-14T12:35:50.204Z"
   },
   {
    "duration": 23,
    "start_time": "2022-07-14T12:35:50.215Z"
   },
   {
    "duration": 49,
    "start_time": "2022-07-14T12:35:50.240Z"
   },
   {
    "duration": 56,
    "start_time": "2022-07-14T12:35:50.291Z"
   },
   {
    "duration": 11,
    "start_time": "2022-07-14T12:35:50.349Z"
   },
   {
    "duration": 23,
    "start_time": "2022-07-14T12:35:50.362Z"
   },
   {
    "duration": 50,
    "start_time": "2022-07-14T12:35:50.387Z"
   },
   {
    "duration": 19,
    "start_time": "2022-07-14T12:35:50.439Z"
   },
   {
    "duration": 152,
    "start_time": "2022-07-14T12:35:50.460Z"
   },
   {
    "duration": 59,
    "start_time": "2022-07-14T12:35:50.614Z"
   },
   {
    "duration": 83,
    "start_time": "2022-07-14T12:35:50.675Z"
   },
   {
    "duration": 304,
    "start_time": "2022-07-14T12:35:50.760Z"
   },
   {
    "duration": 132,
    "start_time": "2022-07-14T12:35:51.066Z"
   },
   {
    "duration": 119,
    "start_time": "2022-07-14T12:35:51.200Z"
   },
   {
    "duration": 6,
    "start_time": "2022-07-14T12:35:51.321Z"
   },
   {
    "duration": 10,
    "start_time": "2022-07-14T12:35:51.328Z"
   },
   {
    "duration": 10,
    "start_time": "2022-07-14T12:35:51.340Z"
   },
   {
    "duration": 1235,
    "start_time": "2022-07-14T12:37:01.088Z"
   },
   {
    "duration": 297,
    "start_time": "2022-07-14T12:37:02.325Z"
   },
   {
    "duration": 37,
    "start_time": "2022-07-14T12:37:02.624Z"
   },
   {
    "duration": 27,
    "start_time": "2022-07-14T12:37:02.663Z"
   },
   {
    "duration": 90,
    "start_time": "2022-07-14T12:37:02.693Z"
   },
   {
    "duration": 124,
    "start_time": "2022-07-14T12:37:02.785Z"
   },
   {
    "duration": 10,
    "start_time": "2022-07-14T12:37:02.911Z"
   },
   {
    "duration": 18,
    "start_time": "2022-07-14T12:37:02.922Z"
   },
   {
    "duration": 22,
    "start_time": "2022-07-14T12:37:02.942Z"
   },
   {
    "duration": 15,
    "start_time": "2022-07-14T12:37:02.966Z"
   },
   {
    "duration": 12,
    "start_time": "2022-07-14T12:37:02.983Z"
   },
   {
    "duration": 13,
    "start_time": "2022-07-14T12:37:02.997Z"
   },
   {
    "duration": 16,
    "start_time": "2022-07-14T12:37:03.012Z"
   },
   {
    "duration": 11,
    "start_time": "2022-07-14T12:37:03.031Z"
   },
   {
    "duration": 90,
    "start_time": "2022-07-14T12:37:03.044Z"
   },
   {
    "duration": 8,
    "start_time": "2022-07-14T12:37:03.136Z"
   },
   {
    "duration": 25,
    "start_time": "2022-07-14T12:37:03.146Z"
   },
   {
    "duration": 65,
    "start_time": "2022-07-14T12:37:03.173Z"
   },
   {
    "duration": 43,
    "start_time": "2022-07-14T12:37:03.240Z"
   },
   {
    "duration": 29,
    "start_time": "2022-07-14T12:37:03.285Z"
   },
   {
    "duration": 20,
    "start_time": "2022-07-14T12:37:03.316Z"
   },
   {
    "duration": 34,
    "start_time": "2022-07-14T12:37:03.338Z"
   },
   {
    "duration": 40,
    "start_time": "2022-07-14T12:37:03.373Z"
   },
   {
    "duration": 150,
    "start_time": "2022-07-14T12:37:03.415Z"
   },
   {
    "duration": 70,
    "start_time": "2022-07-14T12:37:03.566Z"
   },
   {
    "duration": 73,
    "start_time": "2022-07-14T12:37:03.638Z"
   },
   {
    "duration": 300,
    "start_time": "2022-07-14T12:37:03.712Z"
   },
   {
    "duration": 136,
    "start_time": "2022-07-14T12:37:04.013Z"
   },
   {
    "duration": 118,
    "start_time": "2022-07-14T12:37:04.150Z"
   },
   {
    "duration": 6,
    "start_time": "2022-07-14T12:37:04.270Z"
   },
   {
    "duration": 8,
    "start_time": "2022-07-14T12:37:43.752Z"
   },
   {
    "duration": 8,
    "start_time": "2022-07-14T12:37:46.210Z"
   },
   {
    "duration": 4,
    "start_time": "2022-07-14T12:40:56.479Z"
   },
   {
    "duration": 7,
    "start_time": "2022-07-14T12:41:40.048Z"
   },
   {
    "duration": 9,
    "start_time": "2022-07-14T12:41:42.738Z"
   },
   {
    "duration": 1162,
    "start_time": "2022-07-14T12:42:24.221Z"
   },
   {
    "duration": 270,
    "start_time": "2022-07-14T12:42:25.385Z"
   },
   {
    "duration": 34,
    "start_time": "2022-07-14T12:42:25.656Z"
   },
   {
    "duration": 15,
    "start_time": "2022-07-14T12:42:25.692Z"
   },
   {
    "duration": 82,
    "start_time": "2022-07-14T12:42:25.709Z"
   },
   {
    "duration": 133,
    "start_time": "2022-07-14T12:42:25.793Z"
   },
   {
    "duration": 9,
    "start_time": "2022-07-14T12:42:25.928Z"
   },
   {
    "duration": 16,
    "start_time": "2022-07-14T12:42:25.939Z"
   },
   {
    "duration": 18,
    "start_time": "2022-07-14T12:42:25.957Z"
   },
   {
    "duration": 16,
    "start_time": "2022-07-14T12:42:25.977Z"
   },
   {
    "duration": 21,
    "start_time": "2022-07-14T12:42:25.995Z"
   },
   {
    "duration": 9,
    "start_time": "2022-07-14T12:42:26.018Z"
   },
   {
    "duration": 17,
    "start_time": "2022-07-14T12:42:26.028Z"
   },
   {
    "duration": 4,
    "start_time": "2022-07-14T12:42:26.049Z"
   },
   {
    "duration": 102,
    "start_time": "2022-07-14T12:42:26.055Z"
   },
   {
    "duration": 7,
    "start_time": "2022-07-14T12:42:26.159Z"
   },
   {
    "duration": 33,
    "start_time": "2022-07-14T12:42:26.168Z"
   },
   {
    "duration": 50,
    "start_time": "2022-07-14T12:42:26.202Z"
   },
   {
    "duration": 41,
    "start_time": "2022-07-14T12:42:26.254Z"
   },
   {
    "duration": 11,
    "start_time": "2022-07-14T12:42:26.309Z"
   },
   {
    "duration": 20,
    "start_time": "2022-07-14T12:42:26.321Z"
   },
   {
    "duration": 33,
    "start_time": "2022-07-14T12:42:26.343Z"
   },
   {
    "duration": 35,
    "start_time": "2022-07-14T12:42:26.377Z"
   },
   {
    "duration": 132,
    "start_time": "2022-07-14T12:42:26.413Z"
   },
   {
    "duration": 64,
    "start_time": "2022-07-14T12:42:26.547Z"
   },
   {
    "duration": 63,
    "start_time": "2022-07-14T12:42:26.612Z"
   },
   {
    "duration": 293,
    "start_time": "2022-07-14T12:42:26.676Z"
   },
   {
    "duration": 127,
    "start_time": "2022-07-14T12:42:26.971Z"
   },
   {
    "duration": 129,
    "start_time": "2022-07-14T12:42:27.100Z"
   },
   {
    "duration": 7,
    "start_time": "2022-07-14T12:42:27.231Z"
   },
   {
    "duration": 7,
    "start_time": "2022-07-14T12:42:27.239Z"
   },
   {
    "duration": 1108,
    "start_time": "2022-07-14T12:43:21.484Z"
   },
   {
    "duration": 253,
    "start_time": "2022-07-14T12:43:22.594Z"
   },
   {
    "duration": 33,
    "start_time": "2022-07-14T12:43:22.851Z"
   },
   {
    "duration": 14,
    "start_time": "2022-07-14T12:43:22.886Z"
   },
   {
    "duration": 79,
    "start_time": "2022-07-14T12:43:22.901Z"
   },
   {
    "duration": 128,
    "start_time": "2022-07-14T12:43:22.981Z"
   },
   {
    "duration": 10,
    "start_time": "2022-07-14T12:43:23.111Z"
   },
   {
    "duration": 16,
    "start_time": "2022-07-14T12:43:23.122Z"
   },
   {
    "duration": 17,
    "start_time": "2022-07-14T12:43:23.140Z"
   },
   {
    "duration": 17,
    "start_time": "2022-07-14T12:43:23.159Z"
   },
   {
    "duration": 22,
    "start_time": "2022-07-14T12:43:23.178Z"
   },
   {
    "duration": 24,
    "start_time": "2022-07-14T12:43:23.201Z"
   },
   {
    "duration": 24,
    "start_time": "2022-07-14T12:43:23.229Z"
   },
   {
    "duration": 4,
    "start_time": "2022-07-14T12:43:23.255Z"
   },
   {
    "duration": 89,
    "start_time": "2022-07-14T12:43:23.261Z"
   },
   {
    "duration": 6,
    "start_time": "2022-07-14T12:43:23.352Z"
   },
   {
    "duration": 23,
    "start_time": "2022-07-14T12:43:23.360Z"
   },
   {
    "duration": 55,
    "start_time": "2022-07-14T12:43:23.385Z"
   },
   {
    "duration": 43,
    "start_time": "2022-07-14T12:43:23.442Z"
   },
   {
    "duration": 25,
    "start_time": "2022-07-14T12:43:23.487Z"
   },
   {
    "duration": 19,
    "start_time": "2022-07-14T12:43:23.514Z"
   },
   {
    "duration": 31,
    "start_time": "2022-07-14T12:43:23.534Z"
   },
   {
    "duration": 16,
    "start_time": "2022-07-14T12:43:23.566Z"
   },
   {
    "duration": 150,
    "start_time": "2022-07-14T12:43:23.583Z"
   },
   {
    "duration": 60,
    "start_time": "2022-07-14T12:43:23.735Z"
   },
   {
    "duration": 74,
    "start_time": "2022-07-14T12:43:23.796Z"
   },
   {
    "duration": 299,
    "start_time": "2022-07-14T12:43:23.872Z"
   },
   {
    "duration": 136,
    "start_time": "2022-07-14T12:43:24.173Z"
   },
   {
    "duration": 118,
    "start_time": "2022-07-14T12:43:24.311Z"
   },
   {
    "duration": 6,
    "start_time": "2022-07-14T12:43:24.432Z"
   },
   {
    "duration": 13,
    "start_time": "2022-07-14T12:43:24.439Z"
   },
   {
    "duration": 18,
    "start_time": "2022-07-14T12:45:58.666Z"
   },
   {
    "duration": 7,
    "start_time": "2022-07-14T12:53:57.308Z"
   },
   {
    "duration": 10,
    "start_time": "2022-07-14T12:54:44.617Z"
   },
   {
    "duration": 10,
    "start_time": "2022-07-14T12:54:55.599Z"
   },
   {
    "duration": 22,
    "start_time": "2022-07-14T12:55:10.215Z"
   },
   {
    "duration": 20,
    "start_time": "2022-07-14T12:55:16.773Z"
   },
   {
    "duration": 15,
    "start_time": "2022-07-14T12:55:31.364Z"
   },
   {
    "duration": 12,
    "start_time": "2022-07-14T12:56:49.393Z"
   },
   {
    "duration": 15,
    "start_time": "2022-07-14T12:56:57.190Z"
   },
   {
    "duration": 13,
    "start_time": "2022-07-14T13:00:08.476Z"
   },
   {
    "duration": 32,
    "start_time": "2022-07-14T13:02:03.834Z"
   },
   {
    "duration": 56,
    "start_time": "2022-07-14T18:06:49.620Z"
   },
   {
    "duration": 1274,
    "start_time": "2022-07-14T18:06:56.459Z"
   },
   {
    "duration": 294,
    "start_time": "2022-07-14T18:06:57.736Z"
   },
   {
    "duration": 53,
    "start_time": "2022-07-14T18:06:58.032Z"
   },
   {
    "duration": 15,
    "start_time": "2022-07-14T18:06:58.087Z"
   },
   {
    "duration": 112,
    "start_time": "2022-07-14T18:06:58.104Z"
   },
   {
    "duration": 149,
    "start_time": "2022-07-14T18:06:58.218Z"
   },
   {
    "duration": 11,
    "start_time": "2022-07-14T18:06:58.368Z"
   },
   {
    "duration": 14,
    "start_time": "2022-07-14T18:06:58.381Z"
   },
   {
    "duration": 15,
    "start_time": "2022-07-14T18:06:58.396Z"
   },
   {
    "duration": 41,
    "start_time": "2022-07-14T18:06:58.413Z"
   },
   {
    "duration": 14,
    "start_time": "2022-07-14T18:06:58.456Z"
   },
   {
    "duration": 11,
    "start_time": "2022-07-14T18:06:58.471Z"
   },
   {
    "duration": 17,
    "start_time": "2022-07-14T18:06:58.484Z"
   },
   {
    "duration": 9,
    "start_time": "2022-07-14T18:06:58.505Z"
   },
   {
    "duration": 114,
    "start_time": "2022-07-14T18:06:58.517Z"
   },
   {
    "duration": 15,
    "start_time": "2022-07-14T18:06:58.633Z"
   },
   {
    "duration": 31,
    "start_time": "2022-07-14T18:06:58.657Z"
   },
   {
    "duration": 72,
    "start_time": "2022-07-14T18:06:58.690Z"
   },
   {
    "duration": 49,
    "start_time": "2022-07-14T18:06:58.764Z"
   },
   {
    "duration": 11,
    "start_time": "2022-07-14T18:06:58.815Z"
   },
   {
    "duration": 36,
    "start_time": "2022-07-14T18:06:58.827Z"
   },
   {
    "duration": 48,
    "start_time": "2022-07-14T18:06:58.866Z"
   },
   {
    "duration": 37,
    "start_time": "2022-07-14T18:06:58.917Z"
   },
   {
    "duration": 203,
    "start_time": "2022-07-14T18:06:58.956Z"
   },
   {
    "duration": 103,
    "start_time": "2022-07-14T18:06:59.161Z"
   },
   {
    "duration": 120,
    "start_time": "2022-07-14T18:06:59.267Z"
   },
   {
    "duration": 334,
    "start_time": "2022-07-14T18:06:59.391Z"
   },
   {
    "duration": 143,
    "start_time": "2022-07-14T18:06:59.727Z"
   },
   {
    "duration": 146,
    "start_time": "2022-07-14T18:06:59.872Z"
   },
   {
    "duration": 8,
    "start_time": "2022-07-14T18:07:00.020Z"
   },
   {
    "duration": 65,
    "start_time": "2022-07-14T18:07:00.029Z"
   },
   {
    "duration": 87,
    "start_time": "2022-07-14T18:07:08.577Z"
   },
   {
    "duration": 65,
    "start_time": "2022-07-14T18:07:40.057Z"
   },
   {
    "duration": 62,
    "start_time": "2022-07-14T18:08:11.882Z"
   },
   {
    "duration": 72,
    "start_time": "2022-07-14T18:08:20.689Z"
   },
   {
    "duration": 75,
    "start_time": "2022-07-14T18:08:25.129Z"
   },
   {
    "duration": 67,
    "start_time": "2022-07-14T18:08:36.233Z"
   },
   {
    "duration": 69,
    "start_time": "2022-07-14T18:08:54.661Z"
   },
   {
    "duration": 82,
    "start_time": "2022-07-14T18:08:59.169Z"
   },
   {
    "duration": 4,
    "start_time": "2022-07-14T18:14:30.910Z"
   },
   {
    "duration": 5,
    "start_time": "2022-07-14T18:14:40.275Z"
   },
   {
    "duration": 4,
    "start_time": "2022-07-14T18:14:49.639Z"
   },
   {
    "duration": 3,
    "start_time": "2022-07-14T18:16:07.301Z"
   },
   {
    "duration": 7,
    "start_time": "2022-07-14T18:16:50.901Z"
   },
   {
    "duration": 4,
    "start_time": "2022-07-14T18:16:56.435Z"
   },
   {
    "duration": 14,
    "start_time": "2022-07-14T18:17:55.157Z"
   },
   {
    "duration": 11,
    "start_time": "2022-07-14T18:18:05.781Z"
   },
   {
    "duration": 29,
    "start_time": "2022-07-14T18:18:17.533Z"
   },
   {
    "duration": 23,
    "start_time": "2022-07-14T18:18:43.956Z"
   },
   {
    "duration": 1184,
    "start_time": "2022-07-15T09:29:32.664Z"
   },
   {
    "duration": 907,
    "start_time": "2022-07-15T09:29:33.851Z"
   },
   {
    "duration": 29,
    "start_time": "2022-07-15T09:29:34.759Z"
   },
   {
    "duration": 13,
    "start_time": "2022-07-15T09:29:34.790Z"
   },
   {
    "duration": 82,
    "start_time": "2022-07-15T09:29:34.804Z"
   },
   {
    "duration": 116,
    "start_time": "2022-07-15T09:29:34.888Z"
   },
   {
    "duration": 10,
    "start_time": "2022-07-15T09:29:35.006Z"
   },
   {
    "duration": 18,
    "start_time": "2022-07-15T09:29:35.017Z"
   },
   {
    "duration": 20,
    "start_time": "2022-07-15T09:29:35.037Z"
   },
   {
    "duration": 11,
    "start_time": "2022-07-15T09:29:35.060Z"
   },
   {
    "duration": 17,
    "start_time": "2022-07-15T09:29:35.073Z"
   },
   {
    "duration": 9,
    "start_time": "2022-07-15T09:29:35.091Z"
   },
   {
    "duration": 18,
    "start_time": "2022-07-15T09:29:35.101Z"
   },
   {
    "duration": 6,
    "start_time": "2022-07-15T09:29:35.120Z"
   },
   {
    "duration": 25,
    "start_time": "2022-07-15T09:37:49.885Z"
   },
   {
    "duration": 20,
    "start_time": "2022-07-15T09:39:07.567Z"
   },
   {
    "duration": 13,
    "start_time": "2022-07-15T09:39:26.108Z"
   },
   {
    "duration": 45,
    "start_time": "2022-07-15T09:39:43.724Z"
   },
   {
    "duration": 18,
    "start_time": "2022-07-15T09:43:45.380Z"
   },
   {
    "duration": 19,
    "start_time": "2022-07-15T09:44:29.820Z"
   },
   {
    "duration": 3,
    "start_time": "2022-07-15T10:21:30.732Z"
   },
   {
    "duration": 261,
    "start_time": "2022-07-15T10:21:30.739Z"
   },
   {
    "duration": 29,
    "start_time": "2022-07-15T10:21:31.002Z"
   },
   {
    "duration": 12,
    "start_time": "2022-07-15T10:21:31.034Z"
   },
   {
    "duration": 80,
    "start_time": "2022-07-15T10:21:31.047Z"
   },
   {
    "duration": 119,
    "start_time": "2022-07-15T10:21:31.129Z"
   },
   {
    "duration": 12,
    "start_time": "2022-07-15T10:21:31.252Z"
   },
   {
    "duration": 14,
    "start_time": "2022-07-15T10:21:31.265Z"
   },
   {
    "duration": 24,
    "start_time": "2022-07-15T10:21:31.281Z"
   },
   {
    "duration": 15,
    "start_time": "2022-07-15T10:21:31.306Z"
   },
   {
    "duration": 19,
    "start_time": "2022-07-15T10:21:31.323Z"
   },
   {
    "duration": 19,
    "start_time": "2022-07-15T10:21:31.343Z"
   },
   {
    "duration": 15,
    "start_time": "2022-07-15T10:21:31.364Z"
   },
   {
    "duration": 5,
    "start_time": "2022-07-15T10:21:31.381Z"
   },
   {
    "duration": 31,
    "start_time": "2022-07-15T10:21:31.389Z"
   },
   {
    "duration": 33,
    "start_time": "2022-07-15T10:21:31.422Z"
   },
   {
    "duration": 19,
    "start_time": "2022-07-15T10:21:31.457Z"
   },
   {
    "duration": 103,
    "start_time": "2022-07-15T10:21:31.478Z"
   },
   {
    "duration": 8,
    "start_time": "2022-07-15T10:21:31.583Z"
   },
   {
    "duration": 21,
    "start_time": "2022-07-15T10:21:31.592Z"
   },
   {
    "duration": 67,
    "start_time": "2022-07-15T10:21:31.615Z"
   },
   {
    "duration": 43,
    "start_time": "2022-07-15T10:21:31.684Z"
   },
   {
    "duration": 34,
    "start_time": "2022-07-15T10:21:31.729Z"
   },
   {
    "duration": 29,
    "start_time": "2022-07-15T10:21:31.765Z"
   },
   {
    "duration": 58,
    "start_time": "2022-07-15T10:21:31.796Z"
   },
   {
    "duration": 19,
    "start_time": "2022-07-15T10:21:31.856Z"
   },
   {
    "duration": 150,
    "start_time": "2022-07-15T10:21:31.876Z"
   },
   {
    "duration": 3,
    "start_time": "2022-07-15T10:51:58.960Z"
   },
   {
    "duration": 258,
    "start_time": "2022-07-15T10:51:58.979Z"
   },
   {
    "duration": 29,
    "start_time": "2022-07-15T10:51:59.239Z"
   },
   {
    "duration": 11,
    "start_time": "2022-07-15T10:51:59.269Z"
   },
   {
    "duration": 80,
    "start_time": "2022-07-15T10:51:59.282Z"
   },
   {
    "duration": 126,
    "start_time": "2022-07-15T10:51:59.364Z"
   },
   {
    "duration": 10,
    "start_time": "2022-07-15T10:51:59.492Z"
   },
   {
    "duration": 8,
    "start_time": "2022-07-15T10:51:59.504Z"
   },
   {
    "duration": 12,
    "start_time": "2022-07-15T10:51:59.514Z"
   },
   {
    "duration": 35,
    "start_time": "2022-07-15T10:51:59.527Z"
   },
   {
    "duration": 19,
    "start_time": "2022-07-15T10:51:59.564Z"
   },
   {
    "duration": 13,
    "start_time": "2022-07-15T10:51:59.586Z"
   },
   {
    "duration": 18,
    "start_time": "2022-07-15T10:51:59.601Z"
   },
   {
    "duration": 4,
    "start_time": "2022-07-15T10:51:59.621Z"
   },
   {
    "duration": 47,
    "start_time": "2022-07-15T10:51:59.628Z"
   },
   {
    "duration": 11,
    "start_time": "2022-07-15T10:51:59.676Z"
   },
   {
    "duration": 23,
    "start_time": "2022-07-15T10:51:59.689Z"
   },
   {
    "duration": 94,
    "start_time": "2022-07-15T10:51:59.714Z"
   },
   {
    "duration": 6,
    "start_time": "2022-07-15T10:51:59.811Z"
   },
   {
    "duration": 37,
    "start_time": "2022-07-15T10:51:59.819Z"
   },
   {
    "duration": 47,
    "start_time": "2022-07-15T10:51:59.858Z"
   },
   {
    "duration": 54,
    "start_time": "2022-07-15T10:51:59.906Z"
   },
   {
    "duration": 12,
    "start_time": "2022-07-15T10:51:59.961Z"
   },
   {
    "duration": 19,
    "start_time": "2022-07-15T10:51:59.975Z"
   },
   {
    "duration": 69,
    "start_time": "2022-07-15T10:51:59.996Z"
   },
   {
    "duration": 18,
    "start_time": "2022-07-15T10:52:00.067Z"
   },
   {
    "duration": 169,
    "start_time": "2022-07-15T10:52:00.087Z"
   },
   {
    "duration": 67,
    "start_time": "2022-07-15T10:52:00.257Z"
   },
   {
    "duration": 78,
    "start_time": "2022-07-15T10:52:00.325Z"
   },
   {
    "duration": 326,
    "start_time": "2022-07-15T10:52:00.405Z"
   },
   {
    "duration": 128,
    "start_time": "2022-07-15T10:52:00.733Z"
   },
   {
    "duration": 42,
    "start_time": "2022-07-15T10:52:06.778Z"
   },
   {
    "duration": 62,
    "start_time": "2022-07-15T10:52:28.707Z"
   },
   {
    "duration": 9,
    "start_time": "2022-07-15T10:55:47.374Z"
   },
   {
    "duration": 1196,
    "start_time": "2022-07-15T11:24:41.146Z"
   },
   {
    "duration": 278,
    "start_time": "2022-07-15T11:24:42.344Z"
   },
   {
    "duration": 38,
    "start_time": "2022-07-15T11:24:42.624Z"
   },
   {
    "duration": 17,
    "start_time": "2022-07-15T11:24:42.664Z"
   },
   {
    "duration": 109,
    "start_time": "2022-07-15T11:24:42.683Z"
   },
   {
    "duration": 144,
    "start_time": "2022-07-15T11:24:42.794Z"
   },
   {
    "duration": 20,
    "start_time": "2022-07-15T11:24:42.940Z"
   },
   {
    "duration": 15,
    "start_time": "2022-07-15T11:24:42.962Z"
   },
   {
    "duration": 13,
    "start_time": "2022-07-15T11:24:42.979Z"
   },
   {
    "duration": 12,
    "start_time": "2022-07-15T11:24:42.995Z"
   },
   {
    "duration": 14,
    "start_time": "2022-07-15T11:24:43.009Z"
   },
   {
    "duration": 32,
    "start_time": "2022-07-15T11:24:43.025Z"
   },
   {
    "duration": 13,
    "start_time": "2022-07-15T11:24:43.059Z"
   },
   {
    "duration": 5,
    "start_time": "2022-07-15T11:24:43.074Z"
   },
   {
    "duration": 31,
    "start_time": "2022-07-15T11:24:43.081Z"
   },
   {
    "duration": 10,
    "start_time": "2022-07-15T11:24:43.115Z"
   },
   {
    "duration": 26,
    "start_time": "2022-07-15T11:24:43.154Z"
   },
   {
    "duration": 98,
    "start_time": "2022-07-15T11:24:43.182Z"
   },
   {
    "duration": 7,
    "start_time": "2022-07-15T11:24:43.282Z"
   },
   {
    "duration": 19,
    "start_time": "2022-07-15T11:24:43.290Z"
   },
   {
    "duration": 71,
    "start_time": "2022-07-15T11:24:43.310Z"
   },
   {
    "duration": 43,
    "start_time": "2022-07-15T11:24:43.383Z"
   },
   {
    "duration": 26,
    "start_time": "2022-07-15T11:24:43.427Z"
   },
   {
    "duration": 20,
    "start_time": "2022-07-15T11:24:43.455Z"
   },
   {
    "duration": 37,
    "start_time": "2022-07-15T11:24:43.477Z"
   },
   {
    "duration": 40,
    "start_time": "2022-07-15T11:24:43.515Z"
   },
   {
    "duration": 159,
    "start_time": "2022-07-15T11:24:43.557Z"
   },
   {
    "duration": 76,
    "start_time": "2022-07-15T11:24:43.720Z"
   },
   {
    "duration": 76,
    "start_time": "2022-07-15T11:24:43.798Z"
   },
   {
    "duration": 338,
    "start_time": "2022-07-15T11:24:43.876Z"
   },
   {
    "duration": 142,
    "start_time": "2022-07-15T11:24:44.216Z"
   },
   {
    "duration": 129,
    "start_time": "2022-07-15T11:24:44.360Z"
   },
   {
    "duration": 19,
    "start_time": "2022-07-15T11:24:47.147Z"
   },
   {
    "duration": 20,
    "start_time": "2022-07-15T11:25:48.952Z"
   },
   {
    "duration": 13,
    "start_time": "2022-07-15T11:26:31.594Z"
   },
   {
    "duration": 16,
    "start_time": "2022-07-15T11:26:42.593Z"
   },
   {
    "duration": 19,
    "start_time": "2022-07-15T11:28:04.697Z"
   },
   {
    "duration": 1219,
    "start_time": "2022-07-15T11:29:40.342Z"
   },
   {
    "duration": 266,
    "start_time": "2022-07-15T11:29:41.563Z"
   },
   {
    "duration": 34,
    "start_time": "2022-07-15T11:29:41.831Z"
   },
   {
    "duration": 17,
    "start_time": "2022-07-15T11:29:41.867Z"
   },
   {
    "duration": 112,
    "start_time": "2022-07-15T11:29:41.885Z"
   },
   {
    "duration": 138,
    "start_time": "2022-07-15T11:29:42.000Z"
   },
   {
    "duration": 19,
    "start_time": "2022-07-15T11:29:42.141Z"
   },
   {
    "duration": 11,
    "start_time": "2022-07-15T11:29:42.162Z"
   },
   {
    "duration": 26,
    "start_time": "2022-07-15T11:29:42.174Z"
   },
   {
    "duration": 19,
    "start_time": "2022-07-15T11:29:42.203Z"
   },
   {
    "duration": 16,
    "start_time": "2022-07-15T11:29:42.224Z"
   },
   {
    "duration": 27,
    "start_time": "2022-07-15T11:29:42.242Z"
   },
   {
    "duration": 36,
    "start_time": "2022-07-15T11:29:42.272Z"
   },
   {
    "duration": 12,
    "start_time": "2022-07-15T11:29:42.309Z"
   },
   {
    "duration": 29,
    "start_time": "2022-07-15T11:29:42.322Z"
   },
   {
    "duration": 16,
    "start_time": "2022-07-15T11:29:42.353Z"
   },
   {
    "duration": 32,
    "start_time": "2022-07-15T11:29:42.371Z"
   },
   {
    "duration": 88,
    "start_time": "2022-07-15T11:29:42.405Z"
   },
   {
    "duration": 8,
    "start_time": "2022-07-15T11:29:42.495Z"
   },
   {
    "duration": 31,
    "start_time": "2022-07-15T11:29:42.505Z"
   },
   {
    "duration": 63,
    "start_time": "2022-07-15T11:29:42.538Z"
   },
   {
    "duration": 69,
    "start_time": "2022-07-15T11:29:42.603Z"
   },
   {
    "duration": 13,
    "start_time": "2022-07-15T11:29:42.674Z"
   },
   {
    "duration": 36,
    "start_time": "2022-07-15T11:29:42.689Z"
   },
   {
    "duration": 51,
    "start_time": "2022-07-15T11:29:42.726Z"
   },
   {
    "duration": 24,
    "start_time": "2022-07-15T11:29:42.779Z"
   },
   {
    "duration": 192,
    "start_time": "2022-07-15T11:29:42.805Z"
   },
   {
    "duration": 73,
    "start_time": "2022-07-15T11:29:43.000Z"
   },
   {
    "duration": 92,
    "start_time": "2022-07-15T11:29:43.075Z"
   },
   {
    "duration": 346,
    "start_time": "2022-07-15T11:29:43.168Z"
   },
   {
    "duration": 142,
    "start_time": "2022-07-15T11:29:43.516Z"
   },
   {
    "duration": 161,
    "start_time": "2022-07-15T11:29:43.660Z"
   },
   {
    "duration": 4,
    "start_time": "2022-07-15T11:29:47.148Z"
   },
   {
    "duration": 9,
    "start_time": "2022-07-15T11:29:50.574Z"
   },
   {
    "duration": 1799,
    "start_time": "2022-07-15T12:12:16.132Z"
   },
   {
    "duration": 1591,
    "start_time": "2022-07-15T12:12:23.204Z"
   },
   {
    "duration": 19,
    "start_time": "2022-07-15T12:16:01.603Z"
   },
   {
    "duration": 20,
    "start_time": "2022-07-15T12:16:03.996Z"
   },
   {
    "duration": 1264,
    "start_time": "2022-07-15T12:17:08.474Z"
   },
   {
    "duration": 348,
    "start_time": "2022-07-15T12:17:09.740Z"
   },
   {
    "duration": 33,
    "start_time": "2022-07-15T12:17:10.090Z"
   },
   {
    "duration": 23,
    "start_time": "2022-07-15T12:17:10.125Z"
   },
   {
    "duration": 125,
    "start_time": "2022-07-15T12:17:10.150Z"
   },
   {
    "duration": 179,
    "start_time": "2022-07-15T12:17:10.282Z"
   },
   {
    "duration": 19,
    "start_time": "2022-07-15T12:17:10.472Z"
   },
   {
    "duration": 8,
    "start_time": "2022-07-15T12:17:10.493Z"
   },
   {
    "duration": 15,
    "start_time": "2022-07-15T12:17:10.503Z"
   },
   {
    "duration": 17,
    "start_time": "2022-07-15T12:17:10.520Z"
   },
   {
    "duration": 29,
    "start_time": "2022-07-15T12:17:10.539Z"
   },
   {
    "duration": 29,
    "start_time": "2022-07-15T12:17:10.570Z"
   },
   {
    "duration": 20,
    "start_time": "2022-07-15T12:17:10.601Z"
   },
   {
    "duration": 5,
    "start_time": "2022-07-15T12:17:10.624Z"
   },
   {
    "duration": 49,
    "start_time": "2022-07-15T12:17:10.630Z"
   },
   {
    "duration": 17,
    "start_time": "2022-07-15T12:17:10.681Z"
   },
   {
    "duration": 20,
    "start_time": "2022-07-15T12:17:10.700Z"
   },
   {
    "duration": 106,
    "start_time": "2022-07-15T12:17:10.722Z"
   },
   {
    "duration": 7,
    "start_time": "2022-07-15T12:17:10.830Z"
   },
   {
    "duration": 44,
    "start_time": "2022-07-15T12:17:10.839Z"
   },
   {
    "duration": 54,
    "start_time": "2022-07-15T12:17:10.886Z"
   },
   {
    "duration": 48,
    "start_time": "2022-07-15T12:17:10.942Z"
   },
   {
    "duration": 12,
    "start_time": "2022-07-15T12:17:10.992Z"
   },
   {
    "duration": 23,
    "start_time": "2022-07-15T12:17:11.006Z"
   },
   {
    "duration": 51,
    "start_time": "2022-07-15T12:17:11.053Z"
   },
   {
    "duration": 19,
    "start_time": "2022-07-15T12:17:11.106Z"
   },
   {
    "duration": 178,
    "start_time": "2022-07-15T12:17:11.126Z"
   },
   {
    "duration": 85,
    "start_time": "2022-07-15T12:17:11.306Z"
   },
   {
    "duration": 89,
    "start_time": "2022-07-15T12:17:11.393Z"
   },
   {
    "duration": 353,
    "start_time": "2022-07-15T12:17:11.485Z"
   },
   {
    "duration": 161,
    "start_time": "2022-07-15T12:17:11.840Z"
   },
   {
    "duration": 171,
    "start_time": "2022-07-15T12:17:15.026Z"
   },
   {
    "duration": 5,
    "start_time": "2022-07-15T12:17:17.598Z"
   },
   {
    "duration": 7,
    "start_time": "2022-07-15T12:17:20.395Z"
   },
   {
    "duration": 24,
    "start_time": "2022-07-15T12:22:08.178Z"
   },
   {
    "duration": 22,
    "start_time": "2022-07-15T12:22:11.216Z"
   },
   {
    "duration": 27,
    "start_time": "2022-07-15T12:32:27.405Z"
   },
   {
    "duration": 14,
    "start_time": "2022-07-15T12:32:46.894Z"
   },
   {
    "duration": 19,
    "start_time": "2022-07-15T12:32:53.657Z"
   },
   {
    "duration": 121,
    "start_time": "2022-07-15T12:32:59.285Z"
   },
   {
    "duration": 17,
    "start_time": "2022-07-15T12:33:01.882Z"
   },
   {
    "duration": 21,
    "start_time": "2022-07-15T12:34:32.710Z"
   },
   {
    "duration": 20,
    "start_time": "2022-07-15T12:34:41.986Z"
   },
   {
    "duration": 357,
    "start_time": "2022-07-15T12:35:06.949Z"
   },
   {
    "duration": 22,
    "start_time": "2022-07-15T12:35:34.838Z"
   },
   {
    "duration": 16,
    "start_time": "2022-07-15T12:35:39.317Z"
   },
   {
    "duration": 15,
    "start_time": "2022-07-15T12:36:31.962Z"
   },
   {
    "duration": 21,
    "start_time": "2022-07-15T12:39:03.253Z"
   },
   {
    "duration": 23,
    "start_time": "2022-07-15T12:39:34.340Z"
   },
   {
    "duration": 21,
    "start_time": "2022-07-15T12:40:17.539Z"
   },
   {
    "duration": 26,
    "start_time": "2022-07-15T12:42:01.480Z"
   },
   {
    "duration": 32,
    "start_time": "2022-07-15T12:42:11.131Z"
   },
   {
    "duration": 1460,
    "start_time": "2022-07-15T12:42:25.272Z"
   },
   {
    "duration": 1860,
    "start_time": "2022-07-15T12:43:05.906Z"
   },
   {
    "duration": 1161,
    "start_time": "2022-07-15T12:43:23.672Z"
   },
   {
    "duration": 299,
    "start_time": "2022-07-15T12:43:24.835Z"
   },
   {
    "duration": 46,
    "start_time": "2022-07-15T12:43:25.137Z"
   },
   {
    "duration": 23,
    "start_time": "2022-07-15T12:43:25.185Z"
   },
   {
    "duration": 101,
    "start_time": "2022-07-15T12:43:25.211Z"
   },
   {
    "duration": 139,
    "start_time": "2022-07-15T12:43:25.314Z"
   },
   {
    "duration": 11,
    "start_time": "2022-07-15T12:43:25.454Z"
   },
   {
    "duration": 25,
    "start_time": "2022-07-15T12:43:25.466Z"
   },
   {
    "duration": 14,
    "start_time": "2022-07-15T12:43:25.492Z"
   },
   {
    "duration": 13,
    "start_time": "2022-07-15T12:43:25.508Z"
   },
   {
    "duration": 17,
    "start_time": "2022-07-15T12:43:25.523Z"
   },
   {
    "duration": 34,
    "start_time": "2022-07-15T12:43:25.555Z"
   },
   {
    "duration": 15,
    "start_time": "2022-07-15T12:43:25.590Z"
   },
   {
    "duration": 5,
    "start_time": "2022-07-15T12:43:25.608Z"
   },
   {
    "duration": 37,
    "start_time": "2022-07-15T12:43:25.614Z"
   },
   {
    "duration": 19,
    "start_time": "2022-07-15T12:43:25.661Z"
   },
   {
    "duration": 20,
    "start_time": "2022-07-15T12:43:25.683Z"
   },
   {
    "duration": 124,
    "start_time": "2022-07-15T12:43:25.705Z"
   },
   {
    "duration": 9,
    "start_time": "2022-07-15T12:43:25.831Z"
   },
   {
    "duration": 36,
    "start_time": "2022-07-15T12:43:25.842Z"
   },
   {
    "duration": 90,
    "start_time": "2022-07-15T12:43:25.880Z"
   },
   {
    "duration": 59,
    "start_time": "2022-07-15T12:43:25.972Z"
   },
   {
    "duration": 32,
    "start_time": "2022-07-15T12:43:26.034Z"
   },
   {
    "duration": 35,
    "start_time": "2022-07-15T12:43:26.069Z"
   },
   {
    "duration": 73,
    "start_time": "2022-07-15T12:43:26.106Z"
   },
   {
    "duration": 22,
    "start_time": "2022-07-15T12:43:26.182Z"
   },
   {
    "duration": 207,
    "start_time": "2022-07-15T12:43:26.206Z"
   },
   {
    "duration": 99,
    "start_time": "2022-07-15T12:43:26.415Z"
   },
   {
    "duration": 103,
    "start_time": "2022-07-15T12:43:26.516Z"
   },
   {
    "duration": 345,
    "start_time": "2022-07-15T12:43:26.621Z"
   },
   {
    "duration": 135,
    "start_time": "2022-07-15T12:43:26.968Z"
   },
   {
    "duration": 167,
    "start_time": "2022-07-15T12:43:27.105Z"
   },
   {
    "duration": 3,
    "start_time": "2022-07-15T12:43:27.274Z"
   },
   {
    "duration": 10,
    "start_time": "2022-07-15T12:43:27.279Z"
   },
   {
    "duration": 21,
    "start_time": "2022-07-15T12:43:27.291Z"
   },
   {
    "duration": 49,
    "start_time": "2022-07-15T12:43:27.314Z"
   },
   {
    "duration": 24,
    "start_time": "2022-07-15T12:43:29.471Z"
   },
   {
    "duration": 1770,
    "start_time": "2022-07-15T12:43:39.008Z"
   },
   {
    "duration": 1320,
    "start_time": "2022-07-15T12:43:55.672Z"
   },
   {
    "duration": 300,
    "start_time": "2022-07-15T12:43:56.994Z"
   },
   {
    "duration": 31,
    "start_time": "2022-07-15T12:43:57.296Z"
   },
   {
    "duration": 18,
    "start_time": "2022-07-15T12:43:57.329Z"
   },
   {
    "duration": 92,
    "start_time": "2022-07-15T12:43:57.349Z"
   },
   {
    "duration": 174,
    "start_time": "2022-07-15T12:43:57.443Z"
   },
   {
    "duration": 10,
    "start_time": "2022-07-15T12:43:57.619Z"
   },
   {
    "duration": 8,
    "start_time": "2022-07-15T12:43:57.631Z"
   },
   {
    "duration": 24,
    "start_time": "2022-07-15T12:43:57.641Z"
   },
   {
    "duration": 34,
    "start_time": "2022-07-15T12:43:57.667Z"
   },
   {
    "duration": 16,
    "start_time": "2022-07-15T12:43:57.703Z"
   },
   {
    "duration": 8,
    "start_time": "2022-07-15T12:43:57.721Z"
   },
   {
    "duration": 17,
    "start_time": "2022-07-15T12:43:57.731Z"
   },
   {
    "duration": 10,
    "start_time": "2022-07-15T12:43:57.751Z"
   },
   {
    "duration": 38,
    "start_time": "2022-07-15T12:43:57.762Z"
   },
   {
    "duration": 14,
    "start_time": "2022-07-15T12:43:57.802Z"
   },
   {
    "duration": 21,
    "start_time": "2022-07-15T12:43:57.817Z"
   },
   {
    "duration": 132,
    "start_time": "2022-07-15T12:43:57.840Z"
   },
   {
    "duration": 16,
    "start_time": "2022-07-15T12:43:57.978Z"
   },
   {
    "duration": 31,
    "start_time": "2022-07-15T12:43:57.996Z"
   },
   {
    "duration": 75,
    "start_time": "2022-07-15T12:43:58.029Z"
   },
   {
    "duration": 85,
    "start_time": "2022-07-15T12:43:58.107Z"
   },
   {
    "duration": 70,
    "start_time": "2022-07-15T12:43:58.194Z"
   },
   {
    "duration": 31,
    "start_time": "2022-07-15T12:43:58.266Z"
   },
   {
    "duration": 86,
    "start_time": "2022-07-15T12:43:58.300Z"
   },
   {
    "duration": 18,
    "start_time": "2022-07-15T12:43:58.387Z"
   },
   {
    "duration": 151,
    "start_time": "2022-07-15T12:43:58.406Z"
   },
   {
    "duration": 98,
    "start_time": "2022-07-15T12:43:58.563Z"
   },
   {
    "duration": 73,
    "start_time": "2022-07-15T12:43:58.671Z"
   },
   {
    "duration": 338,
    "start_time": "2022-07-15T12:43:58.746Z"
   },
   {
    "duration": 138,
    "start_time": "2022-07-15T12:43:59.086Z"
   },
   {
    "duration": 177,
    "start_time": "2022-07-15T12:43:59.226Z"
   },
   {
    "duration": 4,
    "start_time": "2022-07-15T12:43:59.405Z"
   },
   {
    "duration": 8,
    "start_time": "2022-07-15T12:43:59.410Z"
   },
   {
    "duration": 34,
    "start_time": "2022-07-15T12:43:59.420Z"
   },
   {
    "duration": 32,
    "start_time": "2022-07-15T12:44:01.352Z"
   },
   {
    "duration": 23,
    "start_time": "2022-07-15T12:44:10.183Z"
   },
   {
    "duration": 1444,
    "start_time": "2022-07-15T12:46:01.641Z"
   },
   {
    "duration": 379,
    "start_time": "2022-07-15T12:46:03.087Z"
   },
   {
    "duration": 48,
    "start_time": "2022-07-15T12:46:03.473Z"
   },
   {
    "duration": 18,
    "start_time": "2022-07-15T12:46:03.523Z"
   },
   {
    "duration": 117,
    "start_time": "2022-07-15T12:46:03.544Z"
   },
   {
    "duration": 167,
    "start_time": "2022-07-15T12:46:03.663Z"
   },
   {
    "duration": 24,
    "start_time": "2022-07-15T12:46:03.832Z"
   },
   {
    "duration": 58,
    "start_time": "2022-07-15T12:46:03.867Z"
   },
   {
    "duration": 13,
    "start_time": "2022-07-15T12:46:03.927Z"
   },
   {
    "duration": 29,
    "start_time": "2022-07-15T12:46:03.941Z"
   },
   {
    "duration": 44,
    "start_time": "2022-07-15T12:46:03.972Z"
   },
   {
    "duration": 20,
    "start_time": "2022-07-15T12:46:04.018Z"
   },
   {
    "duration": 36,
    "start_time": "2022-07-15T12:46:04.040Z"
   },
   {
    "duration": 30,
    "start_time": "2022-07-15T12:46:04.079Z"
   },
   {
    "duration": 30,
    "start_time": "2022-07-15T12:46:04.111Z"
   },
   {
    "duration": 16,
    "start_time": "2022-07-15T12:46:04.143Z"
   },
   {
    "duration": 63,
    "start_time": "2022-07-15T12:46:04.164Z"
   },
   {
    "duration": 135,
    "start_time": "2022-07-15T12:46:04.229Z"
   },
   {
    "duration": 17,
    "start_time": "2022-07-15T12:46:04.367Z"
   },
   {
    "duration": 47,
    "start_time": "2022-07-15T12:46:04.385Z"
   },
   {
    "duration": 84,
    "start_time": "2022-07-15T12:46:04.434Z"
   },
   {
    "duration": 58,
    "start_time": "2022-07-15T12:46:04.520Z"
   },
   {
    "duration": 45,
    "start_time": "2022-07-15T12:46:04.580Z"
   },
   {
    "duration": 84,
    "start_time": "2022-07-15T12:46:04.627Z"
   },
   {
    "duration": 37,
    "start_time": "2022-07-15T12:46:04.713Z"
   },
   {
    "duration": 27,
    "start_time": "2022-07-15T12:46:04.752Z"
   },
   {
    "duration": 206,
    "start_time": "2022-07-15T12:46:04.781Z"
   },
   {
    "duration": 82,
    "start_time": "2022-07-15T12:46:04.989Z"
   },
   {
    "duration": 114,
    "start_time": "2022-07-15T12:46:05.083Z"
   },
   {
    "duration": 392,
    "start_time": "2022-07-15T12:46:05.203Z"
   },
   {
    "duration": 143,
    "start_time": "2022-07-15T12:46:05.597Z"
   },
   {
    "duration": 189,
    "start_time": "2022-07-15T12:46:05.742Z"
   },
   {
    "duration": 4,
    "start_time": "2022-07-15T12:46:05.933Z"
   },
   {
    "duration": 17,
    "start_time": "2022-07-15T12:46:05.938Z"
   },
   {
    "duration": 69,
    "start_time": "2022-07-15T12:46:05.956Z"
   },
   {
    "duration": 34,
    "start_time": "2022-07-15T12:46:06.028Z"
   },
   {
    "duration": 45,
    "start_time": "2022-07-15T12:46:34.343Z"
   },
   {
    "duration": 1339,
    "start_time": "2022-07-15T12:47:18.498Z"
   },
   {
    "duration": 378,
    "start_time": "2022-07-15T12:47:19.839Z"
   },
   {
    "duration": 35,
    "start_time": "2022-07-15T12:47:20.219Z"
   },
   {
    "duration": 57,
    "start_time": "2022-07-15T12:47:20.256Z"
   },
   {
    "duration": 117,
    "start_time": "2022-07-15T12:47:20.316Z"
   },
   {
    "duration": 197,
    "start_time": "2022-07-15T12:47:20.435Z"
   },
   {
    "duration": 12,
    "start_time": "2022-07-15T12:47:20.634Z"
   },
   {
    "duration": 68,
    "start_time": "2022-07-15T12:47:20.648Z"
   },
   {
    "duration": 19,
    "start_time": "2022-07-15T12:47:20.718Z"
   },
   {
    "duration": 32,
    "start_time": "2022-07-15T12:47:20.740Z"
   },
   {
    "duration": 64,
    "start_time": "2022-07-15T12:47:20.774Z"
   },
   {
    "duration": 53,
    "start_time": "2022-07-15T12:47:20.840Z"
   },
   {
    "duration": 33,
    "start_time": "2022-07-15T12:47:20.897Z"
   },
   {
    "duration": 11,
    "start_time": "2022-07-15T12:47:20.933Z"
   },
   {
    "duration": 79,
    "start_time": "2022-07-15T12:47:20.946Z"
   },
   {
    "duration": 13,
    "start_time": "2022-07-15T12:47:21.027Z"
   },
   {
    "duration": 28,
    "start_time": "2022-07-15T12:47:21.041Z"
   },
   {
    "duration": 157,
    "start_time": "2022-07-15T12:47:21.074Z"
   },
   {
    "duration": 11,
    "start_time": "2022-07-15T12:47:21.233Z"
   },
   {
    "duration": 58,
    "start_time": "2022-07-15T12:47:21.246Z"
   },
   {
    "duration": 117,
    "start_time": "2022-07-15T12:47:21.311Z"
   },
   {
    "duration": 75,
    "start_time": "2022-07-15T12:47:21.430Z"
   },
   {
    "duration": 14,
    "start_time": "2022-07-15T12:47:21.510Z"
   },
   {
    "duration": 24,
    "start_time": "2022-07-15T12:47:21.526Z"
   },
   {
    "duration": 65,
    "start_time": "2022-07-15T12:47:21.551Z"
   },
   {
    "duration": 17,
    "start_time": "2022-07-15T12:47:21.619Z"
   },
   {
    "duration": 251,
    "start_time": "2022-07-15T12:47:21.638Z"
   },
   {
    "duration": 93,
    "start_time": "2022-07-15T12:47:21.891Z"
   },
   {
    "duration": 92,
    "start_time": "2022-07-15T12:47:21.986Z"
   },
   {
    "duration": 390,
    "start_time": "2022-07-15T12:47:22.080Z"
   },
   {
    "duration": 173,
    "start_time": "2022-07-15T12:47:22.474Z"
   },
   {
    "duration": 224,
    "start_time": "2022-07-15T12:47:22.649Z"
   },
   {
    "duration": 9,
    "start_time": "2022-07-15T12:47:22.879Z"
   },
   {
    "duration": 28,
    "start_time": "2022-07-15T12:47:22.891Z"
   },
   {
    "duration": 23,
    "start_time": "2022-07-15T12:47:22.921Z"
   },
   {
    "duration": 37,
    "start_time": "2022-07-15T12:47:24.934Z"
   },
   {
    "duration": 52,
    "start_time": "2022-07-15T12:47:26.297Z"
   },
   {
    "duration": 1407,
    "start_time": "2022-07-15T12:48:28.418Z"
   },
   {
    "duration": 413,
    "start_time": "2022-07-15T12:48:29.827Z"
   },
   {
    "duration": 92,
    "start_time": "2022-07-15T12:48:30.242Z"
   },
   {
    "duration": 75,
    "start_time": "2022-07-15T12:48:30.339Z"
   },
   {
    "duration": 149,
    "start_time": "2022-07-15T12:48:30.417Z"
   },
   {
    "duration": 219,
    "start_time": "2022-07-15T12:48:30.568Z"
   },
   {
    "duration": 15,
    "start_time": "2022-07-15T12:48:30.791Z"
   },
   {
    "duration": 13,
    "start_time": "2022-07-15T12:48:30.812Z"
   },
   {
    "duration": 26,
    "start_time": "2022-07-15T12:48:30.827Z"
   },
   {
    "duration": 37,
    "start_time": "2022-07-15T12:48:30.859Z"
   },
   {
    "duration": 28,
    "start_time": "2022-07-15T12:48:30.898Z"
   },
   {
    "duration": 18,
    "start_time": "2022-07-15T12:48:30.928Z"
   },
   {
    "duration": 64,
    "start_time": "2022-07-15T12:48:30.948Z"
   },
   {
    "duration": 5,
    "start_time": "2022-07-15T12:48:31.014Z"
   },
   {
    "duration": 46,
    "start_time": "2022-07-15T12:48:31.021Z"
   },
   {
    "duration": 55,
    "start_time": "2022-07-15T12:48:31.069Z"
   },
   {
    "duration": 50,
    "start_time": "2022-07-15T12:48:31.128Z"
   },
   {
    "duration": 190,
    "start_time": "2022-07-15T12:48:31.182Z"
   },
   {
    "duration": 15,
    "start_time": "2022-07-15T12:48:31.374Z"
   },
   {
    "duration": 116,
    "start_time": "2022-07-15T12:48:31.391Z"
   },
   {
    "duration": 117,
    "start_time": "2022-07-15T12:48:31.509Z"
   },
   {
    "duration": 54,
    "start_time": "2022-07-15T12:48:31.628Z"
   },
   {
    "duration": 48,
    "start_time": "2022-07-15T12:48:31.684Z"
   },
   {
    "duration": 40,
    "start_time": "2022-07-15T12:48:31.735Z"
   },
   {
    "duration": 63,
    "start_time": "2022-07-15T12:48:31.780Z"
   },
   {
    "duration": 58,
    "start_time": "2022-07-15T12:48:31.846Z"
   },
   {
    "duration": 241,
    "start_time": "2022-07-15T12:48:31.906Z"
   },
   {
    "duration": 116,
    "start_time": "2022-07-15T12:48:32.153Z"
   },
   {
    "duration": 111,
    "start_time": "2022-07-15T12:48:32.271Z"
   },
   {
    "duration": 503,
    "start_time": "2022-07-15T12:48:32.386Z"
   },
   {
    "duration": 179,
    "start_time": "2022-07-15T12:48:32.891Z"
   },
   {
    "duration": 223,
    "start_time": "2022-07-15T12:48:33.072Z"
   },
   {
    "duration": 16,
    "start_time": "2022-07-15T12:48:33.301Z"
   },
   {
    "duration": 10,
    "start_time": "2022-07-15T12:48:33.320Z"
   },
   {
    "duration": 37,
    "start_time": "2022-07-15T12:48:33.333Z"
   },
   {
    "duration": 36,
    "start_time": "2022-07-15T12:48:35.007Z"
   },
   {
    "duration": 57,
    "start_time": "2022-07-15T12:48:35.929Z"
   },
   {
    "duration": 2309,
    "start_time": "2022-07-15T12:49:35.891Z"
   },
   {
    "duration": 2910,
    "start_time": "2022-07-15T12:50:00.496Z"
   },
   {
    "duration": 24,
    "start_time": "2022-07-15T12:50:22.337Z"
   },
   {
    "duration": 59,
    "start_time": "2022-07-15T15:01:39.609Z"
   },
   {
    "duration": 1414,
    "start_time": "2022-07-15T15:02:06.612Z"
   },
   {
    "duration": 766,
    "start_time": "2022-07-15T15:02:08.028Z"
   },
   {
    "duration": 39,
    "start_time": "2022-07-15T15:02:08.796Z"
   },
   {
    "duration": 20,
    "start_time": "2022-07-15T15:02:08.837Z"
   },
   {
    "duration": 100,
    "start_time": "2022-07-15T15:02:08.859Z"
   },
   {
    "duration": 133,
    "start_time": "2022-07-15T15:02:08.961Z"
   },
   {
    "duration": 9,
    "start_time": "2022-07-15T15:02:09.096Z"
   },
   {
    "duration": 21,
    "start_time": "2022-07-15T15:02:09.107Z"
   },
   {
    "duration": 14,
    "start_time": "2022-07-15T15:02:09.131Z"
   },
   {
    "duration": 19,
    "start_time": "2022-07-15T15:02:09.147Z"
   },
   {
    "duration": 16,
    "start_time": "2022-07-15T15:02:09.168Z"
   },
   {
    "duration": 11,
    "start_time": "2022-07-15T15:02:09.185Z"
   },
   {
    "duration": 10,
    "start_time": "2022-07-15T15:02:09.198Z"
   },
   {
    "duration": 5,
    "start_time": "2022-07-15T15:02:09.223Z"
   },
   {
    "duration": 51,
    "start_time": "2022-07-15T15:02:09.230Z"
   },
   {
    "duration": 14,
    "start_time": "2022-07-15T15:02:09.283Z"
   },
   {
    "duration": 36,
    "start_time": "2022-07-15T15:02:09.299Z"
   },
   {
    "duration": 93,
    "start_time": "2022-07-15T15:02:09.337Z"
   },
   {
    "duration": 8,
    "start_time": "2022-07-15T15:02:09.431Z"
   },
   {
    "duration": 19,
    "start_time": "2022-07-15T15:02:09.440Z"
   },
   {
    "duration": 67,
    "start_time": "2022-07-15T15:02:09.461Z"
   },
   {
    "duration": 46,
    "start_time": "2022-07-15T15:02:09.529Z"
   },
   {
    "duration": 10,
    "start_time": "2022-07-15T15:02:09.577Z"
   },
   {
    "duration": 40,
    "start_time": "2022-07-15T15:02:09.589Z"
   },
   {
    "duration": 34,
    "start_time": "2022-07-15T15:02:09.631Z"
   },
   {
    "duration": 16,
    "start_time": "2022-07-15T15:02:09.667Z"
   },
   {
    "duration": 157,
    "start_time": "2022-07-15T15:02:09.685Z"
   },
   {
    "duration": 64,
    "start_time": "2022-07-15T15:02:09.844Z"
   },
   {
    "duration": 75,
    "start_time": "2022-07-15T15:02:09.910Z"
   },
   {
    "duration": 293,
    "start_time": "2022-07-15T15:02:09.987Z"
   },
   {
    "duration": 134,
    "start_time": "2022-07-15T15:02:10.282Z"
   },
   {
    "duration": 132,
    "start_time": "2022-07-15T15:02:10.423Z"
   },
   {
    "duration": 4,
    "start_time": "2022-07-15T15:02:10.557Z"
   },
   {
    "duration": 8,
    "start_time": "2022-07-15T15:02:10.563Z"
   },
   {
    "duration": 24,
    "start_time": "2022-07-15T15:02:10.572Z"
   },
   {
    "duration": 38,
    "start_time": "2022-07-15T15:02:10.598Z"
   },
   {
    "duration": 22,
    "start_time": "2022-07-15T15:02:10.638Z"
   },
   {
    "duration": 18,
    "start_time": "2022-07-15T15:02:10.661Z"
   },
   {
    "duration": 1497,
    "start_time": "2022-07-15T15:02:25.580Z"
   },
   {
    "duration": 4,
    "start_time": "2022-07-15T15:02:28.846Z"
   },
   {
    "duration": 58,
    "start_time": "2022-08-07T10:54:44.474Z"
   },
   {
    "duration": 87,
    "start_time": "2022-08-07T10:56:00.157Z"
   }
  ],
  "kernelspec": {
   "display_name": "Python 3 (ipykernel)",
   "language": "python",
   "name": "python3"
  },
  "language_info": {
   "codemirror_mode": {
    "name": "ipython",
    "version": 3
   },
   "file_extension": ".py",
   "mimetype": "text/x-python",
   "name": "python",
   "nbconvert_exporter": "python",
   "pygments_lexer": "ipython3",
   "version": "3.9.12"
  },
  "toc": {
   "base_numbering": 1,
   "nav_menu": {},
   "number_sections": true,
   "sideBar": true,
   "skip_h1_title": true,
   "title_cell": "Table of Contents",
   "title_sidebar": "Contents",
   "toc_cell": false,
   "toc_position": {},
   "toc_section_display": true,
   "toc_window_display": false
  }
 },
 "nbformat": 4,
 "nbformat_minor": 2
}
